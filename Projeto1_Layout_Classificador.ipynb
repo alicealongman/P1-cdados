{
 "cells": [
  {
   "cell_type": "markdown",
   "metadata": {},
   "source": [
    "# Projeto 1 - Ciência dos Dados"
   ]
  },
  {
   "cell_type": "markdown",
   "metadata": {},
   "source": [
    "Nome: Alice Longman\n",
    "\n",
    "Nome: Lorena Budin"
   ]
  },
  {
   "cell_type": "markdown",
   "metadata": {},
   "source": [
    "Atenção: Serão permitidos grupos de três pessoas, mas com uma rubrica mais exigente. Grupos deste tamanho precisarão fazer um questionário de avaliação de trabalho em equipe"
   ]
  },
  {
   "cell_type": "markdown",
   "metadata": {},
   "source": [
    "___\n",
    "Carregando algumas bibliotecas:"
   ]
  },
  {
   "cell_type": "code",
   "execution_count": 1056,
   "metadata": {},
   "outputs": [],
   "source": [
    "%matplotlib inline\n",
    "import pandas as pd\n",
    "import matplotlib.pyplot as plt\n",
    "import numpy as np\n",
    "import os\n",
    "import emoji"
   ]
  },
  {
   "cell_type": "code",
   "execution_count": 1057,
   "metadata": {
    "scrolled": false
   },
   "outputs": [
    {
     "name": "stdout",
     "output_type": "stream",
     "text": [
      "Esperamos trabalhar no diretório\n",
      "C:\\Users\\Administrador\\P1CDADOS\\P1-cdados\n"
     ]
    }
   ],
   "source": [
    "print('Esperamos trabalhar no diretório')\n",
    "print(os.getcwd())"
   ]
  },
  {
   "cell_type": "markdown",
   "metadata": {},
   "source": [
    "Carregando a base de dados com os tweets classificados como relevantes e não relevantes:"
   ]
  },
  {
   "cell_type": "code",
   "execution_count": 1058,
   "metadata": {},
   "outputs": [],
   "source": [
    "filename = 'shein.xlsx'"
   ]
  },
  {
   "cell_type": "code",
   "execution_count": 1059,
   "metadata": {},
   "outputs": [
    {
     "data": {
      "text/html": [
       "<div>\n",
       "<style scoped>\n",
       "    .dataframe tbody tr th:only-of-type {\n",
       "        vertical-align: middle;\n",
       "    }\n",
       "\n",
       "    .dataframe tbody tr th {\n",
       "        vertical-align: top;\n",
       "    }\n",
       "\n",
       "    .dataframe thead th {\n",
       "        text-align: right;\n",
       "    }\n",
       "</style>\n",
       "<table border=\"1\" class=\"dataframe\">\n",
       "  <thead>\n",
       "    <tr style=\"text-align: right;\">\n",
       "      <th></th>\n",
       "      <th>Treinamento</th>\n",
       "      <th>Classificação</th>\n",
       "    </tr>\n",
       "  </thead>\n",
       "  <tbody>\n",
       "    <tr>\n",
       "      <th>0</th>\n",
       "      <td>eu tô completamente apaixonada pelas lingeries...</td>\n",
       "      <td>1</td>\n",
       "    </tr>\n",
       "    <tr>\n",
       "      <th>1</th>\n",
       "      <td>minhas compras da shein não saem de curitiba n...</td>\n",
       "      <td>3</td>\n",
       "    </tr>\n",
       "    <tr>\n",
       "      <th>2</th>\n",
       "      <td>que demora pra essas roupas da shein chegar, q...</td>\n",
       "      <td>3</td>\n",
       "    </tr>\n",
       "    <tr>\n",
       "      <th>3</th>\n",
       "      <td>“ainn a shein copiou minha marca buaaa” fia su...</td>\n",
       "      <td>0</td>\n",
       "    </tr>\n",
       "    <tr>\n",
       "      <th>4</th>\n",
       "      <td>eu to com abstinência de comprar coisa na shei...</td>\n",
       "      <td>0</td>\n",
       "    </tr>\n",
       "  </tbody>\n",
       "</table>\n",
       "</div>"
      ],
      "text/plain": [
       "                                         Treinamento  Classificação\n",
       "0  eu tô completamente apaixonada pelas lingeries...              1\n",
       "1  minhas compras da shein não saem de curitiba n...              3\n",
       "2  que demora pra essas roupas da shein chegar, q...              3\n",
       "3  “ainn a shein copiou minha marca buaaa” fia su...              0\n",
       "4  eu to com abstinência de comprar coisa na shei...              0"
      ]
     },
     "execution_count": 1059,
     "metadata": {},
     "output_type": "execute_result"
    }
   ],
   "source": [
    "train = pd.read_excel(filename)\n",
    "train.head(5)"
   ]
  },
  {
   "cell_type": "markdown",
   "metadata": {},
   "source": [
    "___\n",
    "## Classificador automático de sentimento\n"
   ]
  },
  {
   "cell_type": "markdown",
   "metadata": {},
   "source": [
    "Faça aqui uma descrição do seu produto e o que considerou como relevante ou não relevante na classificação dos tweets.\n",
    "\n",
    "- SHEIN é uma marca que gera recursos a política do FastFashion e concentra seus produtos na categoria de roupas, acessórios e sapatos femininos. Classificamos como relevante os comentários negativos da marca, pois acreditamos que é de extrema importância aperfeiçoarmos as dores e necessidades dos consumidores."
   ]
  },
  {
   "cell_type": "markdown",
   "metadata": {},
   "source": [
    "___\n",
    "### Montando um Classificador Naive-Bayes\n",
    "\n",
    "Considerando apenas as mensagens da planilha Treinamento, ensine  seu classificador."
   ]
  },
  {
   "cell_type": "markdown",
   "metadata": {},
   "source": []
  },
  {
   "cell_type": "markdown",
   "metadata": {},
   "source": [
    "- PROPOSTAS PARA OUTRAS LIMPEZAS/TRANSFORMAÇÕES: Removemos os nomes dos usuários que foram mencionados ou citados nos tweets, pois isso não afetaria o conteúdo da base de dados."
   ]
  },
  {
   "cell_type": "code",
   "execution_count": 1060,
   "metadata": {},
   "outputs": [],
   "source": [
    "import re \n",
    "\n",
    "\n",
    "def cleanup(text):\n",
    "    \"\"\"\n",
    "        Função de limpeza muito simples que troca alguns sinais básicos por espaços\n",
    "    \"\"\"\n",
    "    #import string\n",
    "    punctuation = '[!-.:?;\"\"''“”''/_\"\\n\"(),_%$\\|/,<>]' # Note que os sinais [] são delimitadores de um conjunto.\n",
    "    pattern = re.compile(punctuation)\n",
    "    text_subbed = re.sub(pattern, '', text)\n",
    "    \n",
    "    \n",
    "    \n",
    "    filtropessoas = filter(lambda x:x[0]!='@', text_subbed.split())\n",
    "    juncao = \" \".join(filter(lambda x:x[0]!='@', text_subbed.split()))\n",
    "    return juncao"
   ]
  },
  {
   "cell_type": "code",
   "execution_count": 1061,
   "metadata": {
    "scrolled": true
   },
   "outputs": [
    {
     "data": {
      "text/plain": [
       "0      eu tô completamente apaixonada pelas lingeries...\n",
       "1      minhas compras da shein não saem de curitiba n...\n",
       "2      que demora pra essas roupas da shein chegar, q...\n",
       "3      “ainn a shein copiou minha marca buaaa” fia su...\n",
       "4      eu to com abstinência de comprar coisa na shei...\n",
       "                             ...                        \n",
       "295    @sugarv3nus eu vi umas na shein coisa mais esq...\n",
       "296    fiz ontem a primeira compra na shein, só esper...\n",
       "297            so mandei vir 1 cena da shein e não curti\n",
       "298         trabalhar pra comprar minhas coisas na shein\n",
       "299         comprei umas roupinhas na shein, fiquei feia\n",
       "Name: Treinamento, Length: 300, dtype: object"
      ]
     },
     "execution_count": 1061,
     "metadata": {},
     "output_type": "execute_result"
    }
   ],
   "source": [
    "treinamento= pd.Series(train.Treinamento)\n",
    "treinamento"
   ]
  },
  {
   "cell_type": "code",
   "execution_count": 1062,
   "metadata": {
    "scrolled": false
   },
   "outputs": [
    {
     "data": {
      "text/plain": [
       "'eu tô completamente apaixonada pelas lingeries da shein'"
      ]
     },
     "execution_count": 1062,
     "metadata": {},
     "output_type": "execute_result"
    }
   ],
   "source": [
    "cleanup(treinamento[0])"
   ]
  },
  {
   "cell_type": "markdown",
   "metadata": {},
   "source": [
    "## CLASSIFICADOR 0"
   ]
  },
  {
   "cell_type": "code",
   "execution_count": 1063,
   "metadata": {},
   "outputs": [],
   "source": [
    "filtro0= train[\"Classificação\"]== 0\n",
    "classificador0= ' '.join(train.loc[filtro0, 'Treinamento'])"
   ]
  },
  {
   "cell_type": "code",
   "execution_count": 1064,
   "metadata": {},
   "outputs": [
    {
     "data": {
      "text/plain": [
       "'ainn a shein copiou minha marca buaaa fia sua marca também copia marcas menores eu to com abstinência de comprar coisa na shein nem faz sentido eu comprar pq além de pobre não tem pra onde usar mas eu sinto muita faltaaaa parabens consumismo vc venceu vc sabe que venceu httpstcoppqyrq1nq2 pessoas que usam shein alguém tem a carta s eu posso dar hn e tenho outras contas que posso dar também o e e o i kkk shein cartõesshein sheinminijogo sheinminigame httpstcovlurrnewud acabei as atividades agr vou ver roupa na shein tem umas mt monstrahttpstcosntqx4dbf4 fiz duas compras na shein ontem e já quero agora na minha casa tô a hrsss vendo a parte de decoração pra casa da shein será se a vida adulta chegou kkkkk rt odeio quem fala mal da shein se voce fala mal da shein saia da minha casa comprei na shein tb graças a deus o aliexpress nunca me pegou meu fetiche ultimamente tem sido colocar roupas no carrinho na shein e esquecer lá vontade de gastar meu salário todo na shein eu até tento juntar dinheiro mas minha avó acabou de me convidar para comprar roupas na shein hehehe me sentindo a influencer com as pessoas me perguntando dúvidas da shein no insta a vossa namorada tambem ta viciada na shein queria comprar roupa na shein 🥺💔 eu e sem aula e vamos comprar roupa na shein 🥳 eu também miga kkkkkkkk do nada ontem eu tava no app da shein 🤣🤣🤣 já todos nós percebemos que vocês todas fazem compras na shein 🙄 meu deus eu não posso gastar dinheiropq já gastei bastantemas tô vendo os biquínis na shein meu dedo tá coçando pra comprar meu deus oq eu faço kkkkkkk virou vício focar olhando produto na shein shein é um caminho sem volta juro 😩 o estafeta da shein veiome pedir o insta 😂 como é suposto eu entrar na shein e não gastar tanto dinheiro ainda por cima money q não é meu acho que vou mandar vir bikinis da shein 💀💀 seja o que deus quiser a minha vida era boa só com a shein até a me mandar baixar o app da shopee e agr eu passo horas revezando em comprar num app e no outro vou falar e a culpa é dela hsushshshsu tb quero saber aaa mas se eu não me engano já vi uma dessa na shein meninas que já compraram na shein me ajudem pf em uma dúvida 🙏🏻😔🙏🏻 eu só queria minhas compras da shein sabe amigas de sp quem quer fazer compra da shein tô doida nesses 2 primeiros mas não queria pagar frete httpstcomkuws7fdy9 enchendo meu carrinho na shein e nem cartão de credito eu tenho 😝 não amg é na shein os brinquinhos deleeeee eu quero igual vou procurar na shein httpstcoglb85fbqnf rt só queria um vale de 500€ para gastar na shein so uns mil reais na conta pra pegar essa promo na shein nao vai dar professor to muito ocupada vendo roupa na shein rt meu carrinho na shein ta cheio e não tenho dinheiro pra comprar nada kkkkkk queria tanto usar roupas no estilo da sheinconfortáveis porem uma vibe ricamas não tem roupas masculinas laenfim as 19h irei liberar o link de shein pra quem tá na espera fique atento mais uma da shein😍 meu carrinho na shein ja tem quase 700 reais 😔😔😔😔 eu com a shein aqui httpstco5nbi1bgmdb shein até agr é a única q conheço kk eu to viciada em colocar coisa no meu carrinho da shein minhas brusinha da emporio chegoooou aaaaaah quero a da shein agora coloquei o endereço da advocacia pra entregar as roupas da shein só que esqueci que não abre de manhã e o carteiro veio hj de manhã🤡 🤡 🤡😩 rt assim de saúde kkkkk nowunitedturnitup will brabo da galera best anime last anime fortniteseason6 filter1y… amiga tem na shein viu to só de olho kkkkkkkkkkkkkkkkkkkk só o alface e a cebolanowunitedturnitup will brabo da galera best anime last anime fortniteseason6 filter1yearonbillboard shein 4yearsforbb2trailerstorm felipe neto ยกเลิก112 기범버블 froto stan friends httpstcohiyczo8vzc httpstcovnhktd78ai é essa aqui amg calcinha de shapewear frontal com zíperdescobri produtos incríveis no httpstcoesv1obsvav venha conferirhttpstcomoi2c1r35c rt ah se eu comprasse tudo q eu favorito na shein consegui colecionar as letras do cartão da shein nem sei como 🤣 as roupas da shein vêm mm ou é meme eu chego a conclusão que conseguir um s da shein e mais complicado do que ganhar o euromilhões httpstcouaafb2x0it alguma suggar mommy online pra me presentear com uma calça da shein eu por horas no site da shein botando mil coisas no carrinho pra depois escolher algumas pra comprar quem me ama tanto que vai me dar 3 brusinhas da minha lista da shein de aniversário 👉🏻👈🏻 rt quem vai ser a alma bondosa q vai pagar meu carrinho de compras da shein 😍😍😍 nao lembro mas na shein tem eu todas as vezes que entro na shein httpstcon1d9mrmrpk é viciante encher a sacola na shein o foda é não ter o limite no cartão rt mandar vir roupa da shein é um caminho sem volta começando o dia enchendo o carrinho na shein e na shopee agora já posso esvaziar e me sentir menos estressada 😌 rt shein faz promoção aí 3 blusa por 5 reais n vou mentir se não disser q não vou a shein ver cenas e guardo a pensar em comprar kkk está tudo bue caro nas lojas normais vi uma na shein httpstcong47dsihl0 comprei roupinhas na shein e uma das saias não fechou ai o inchaço passou um pouco e ela entrou perfeitamente vai tomar no cú sagrado feminino eu te amo e odeio ao msm tempo eu gostava de ser mais consciente nas coisas que compro mas eu sou dívida em comprar em lojas de 2 mão no insta e na shein tem brecho que eh foda a menina vendendo um vestido pique shein por 140 reais fui no app da shein e do nada achei ele la por 4799 eh de cair o uc da bunda rt a vossa namorada tambem ta viciada na shein uma forma fácil de comprar minhas roupinhas na shein todo mês 🤩🤩🤩 httpstcojzvthsuny3 o comércio local parem d comprar shein1 nos ajudem 😔✊🏻🙏🏻tb o comércio local lojinha de insta vendendo shein por 6x o preço mano comprei umas cenas na shein e chegaram hoje eu pedi no dia 11 😳 demoraram 5 dias para chegar o problema de comprar na shein é q minha personalidade de quando eu comprei pode não ser a mesma de quando eu receber e vc pode comprar 1k na shein né amg é da shein ficar literalmente horas escolhendo roupas na shein e na hora de finalizar a compra simplesmente fechar a página sem motivo algum enfim a estressada o dia chegou fiz comprinhas na shein kkk gastar 1k na shein mais vou ficar um nojo de hypado passei toda a semana escolhendo as roupinhas da shein agora que tenho dinheiro to em dúvida se eu compro ou nao meu novo passatempo favorito é olhar as fotos que os consumidores postam na shein nas fantasias pra gato kkkkkkk alguém já comprou jeans na shein rt as pessoas que tao a meter aqueles storys por causa da shein e o crlh p e de fast fashion e quês são as mesmas pessoas que… oo senhor ja fiz outro carrinho na shein metade do meu tempo livre eu favorito as roupas da shein e no restante coisinhas na shopee 🥴 me segurando pra n fzr besteira e comprar coisinhas na shein estou vivendo ou apenas rastreando minhas compras da shein ahahsjjdhajajs minhss roupas da shein sairam pra entrega shein shopee e amazon postem logo minhas comprinhasqro tudo na minha casa ainda hoje fodase os correios e transportadoras😤 rt só quem acompanha ela no insta sabe como ela queria esse patrocínio falava todas as vezes q comprava algo na shein kkkkkkk… queria tanto mais um pijama para minha coleçãomais agora vou comprar tudo da sheinaceito presentes também mds as roupas da baw são muito caras pqp vou de shein msm mood ouvindo raça negra e comprando na shein nn fui taxada na sheinamém pensando em comprar mais coisas na shein meu deus o consumismo httpstcoaugg9emqly minha lista da shein httpstco8zxcvwigwz adoro os vídeos dela mostrando roupa da shein kkkk rt não professora não estou a ouvir estou na shein a ver roupa obrigada trabalhar pra comprar minhas coisas na shein'"
      ]
     },
     "execution_count": 1064,
     "metadata": {},
     "output_type": "execute_result"
    }
   ],
   "source": [
    "classificador0limpo= cleanup(classificador0)\n",
    "classificador0limpo "
   ]
  },
  {
   "cell_type": "markdown",
   "metadata": {},
   "source": [
    "## CLASSIFICADOR 1"
   ]
  },
  {
   "cell_type": "code",
   "execution_count": 1065,
   "metadata": {},
   "outputs": [],
   "source": [
    "filtro1= train[\"Classificação\"] == 1\n",
    "classificador1= ' '.join(train.loc[filtro1, 'Treinamento'])"
   ]
  },
  {
   "cell_type": "code",
   "execution_count": 1066,
   "metadata": {
    "scrolled": true
   },
   "outputs": [
    {
     "data": {
      "text/plain": [
       "'eu tô completamente apaixonada pelas lingeries da shein minhas primeiras compras na shein e eu tô apaixonada httpstcohxxrz0ss1j minha compra da shein finalmente chegou no br gente por favor z os cílios da shein são extremamente leves macios com a base super molinha e mt fácil de colocar meudeus socorro comprei um biquíni babadeira na shein por 60 merréis minhas compras shein chegaram hoje sto me sentindo adorave compra minha lista de desejo da shein linda aii a minha encomenda da shein chegou🥰🤩 os colares que eu comprei no shein chegaram agorinha e ainda chegaram mais cedo q o previsto shein eu te amo ansiosa pra minha mãe chegar com meus pedidos da shein 🥰 na shein tem umas lindas demais e chega em 15 dias sério é de chorar de tao lindas mais uma compra da shein sem ser taxada httpstcobxopdk81zr wtf a minha encomenda da shein veio b rápido rt apaixonada nas coisas da shein preciso ser rica pra comprar tudo rt nunca vi anéis que me assentassem tão bem como os da shein 😻 shein nunca me decepciona meu pedido chegou com 19 dias 🥰 vou fazer umas comprinhas na shein 🥰🥰 meus vestidos da shein ja tao aqui no br to doida pra experimentar a shein com frete grátis p compras acima de 50 conto ameyyy httpstcoycmyb41faz encomenda da shein chegou 1 semana antes do previsto 🤩 rt mood querendo comprar a shein inteira os biquínis da shein são tão cute ah se eu comprasse tudo q eu favorito na shein alguém me da uma blusinha da shein pf httpstcorzs5q24caj meus trem chegaraaaaaaaaaaaaaam shein nunca reclamei de você nunca httpstcooobbsuhwwv eu acho que de aniversário vou fazer umas comprinhas da shein e meu namorado quem vai me dar 😂😂 so queria aquele corset q eu vi na shein vou encomendar roupa da shein 😏🙏 minhaw roupas da shein chegaram to mt feliz shein é zero defeitos quero comprar altas roupinhas de inverno na shein mês que vem shein é um vício mal terminei de pagar a shein e já quero comprar mais coisas vou entrar na shein pra ver se ja chegando meu pedido minhas coisas da shein chegaram aa só quero que minhas compras da shein cheguem logo 🤧 as roupas da shein ficaram incríveis em mim aff recebidos da shein eu disse recebidos 🥰 meus pedidos da shein saíram pra entrega tchay gwnte to indo sentar la fora 🥳🥳🥳🥳🥳 minhas roupas da shein chegaram 😋😋 td oq eu quero tem na shein mas faltame dinero 🕳🚶\\u200d♀️ meu pedido da shein chegou eu vou surtaaaaar shein é sem dúvidas a melhor lojinha pra comprar aaa minhas roupas da shein chegaraaaam fali na shein agora meu deus minhas coisas da shein chegaram ihaaa mostrei roupa da shein à minha mãe e ela adorou tanto ou mais que eu minhas comprinhas da shein chegaram em exatos 1 mês e não tenho reclamações a fazer gostei de tudo shein é tuuudo na vida quero comprar todos os oculos da shein melhor presente da vida livros e cupom presente da shein mano uma das mhas encomendas da shein já chegouuu😍😍😍😭😭😭😭 rt alguém entra no meu carrinho da shein e compra tudo o que tá lá e me dá de presente as compras q fiz na shein acabaram de chegar e ultrapassaram muito minha expectativa pqp gente a shein tá baratinha demais fui enchendo o carrinho e deu 700 reais agora não sei o que faço 🙄 alguém me dá mil reais pra comprar de roupa na shein doida pra minhas roupas da shein chegar amo roupas se pudesse compraria todas da shein 💐💐💐 babo muito nas roupas da shein eu não posso entrar no site da shein e nem da shopee pq eu quero comprar tudo inclusive espero que minhas comprinhas cheguem logo vou fazer a louca e comprar uns 5 biquíni na shein faz um mês que eu tô só namorando uns e nada fiz umas comprinhas na shein e está previsto pra chegar semana que vem \\U0001f972💜 coisas da shein chegarammmm happy fiz ontem a primeira compra na shein só espero não viciar'"
      ]
     },
     "execution_count": 1066,
     "metadata": {},
     "output_type": "execute_result"
    }
   ],
   "source": [
    "classificador1limpo= cleanup(classificador1)\n",
    "classificador1limpo"
   ]
  },
  {
   "cell_type": "code",
   "execution_count": null,
   "metadata": {
    "scrolled": true
   },
   "outputs": [],
   "source": []
  },
  {
   "cell_type": "code",
   "execution_count": null,
   "metadata": {},
   "outputs": [],
   "source": []
  },
  {
   "cell_type": "markdown",
   "metadata": {},
   "source": [
    "## CLASSIFICADOR 2"
   ]
  },
  {
   "cell_type": "code",
   "execution_count": 1067,
   "metadata": {},
   "outputs": [],
   "source": [
    "filtro2= train[\"Classificação\"] == 2\n",
    "classificador2= ' '.join(train.loc[filtro2, 'Treinamento'])"
   ]
  },
  {
   "cell_type": "code",
   "execution_count": 1068,
   "metadata": {},
   "outputs": [
    {
     "data": {
      "text/plain": [
       "'lança o desconto 80 ou morte minhas roupas da shein não chegam nunk 10 dias e minha encomenda da shein ainda nem chegou no brasil queria comprar uma bolsinha na shein mas sla não tenho confiança no site bolada com a shein eu vou só colocando um monte de coisas no meu carrinho da shopee e da shein mas nunca compro kkkkk as encomendas da shein demoram muito a chegar não gostei da minha roupa da shein eu agorinha na shein 🤡🤡 me dá odio de saber q eu comprei um desse na shein e ficou horrível em mim kkkkkkkkkkk httpstcoo8dqc4ksjd as avaliações da shein eu morro httpstcobv7tggjvhp impossível alguém ter visto o site da shein do início ao fim gente não tem um feedback bom essa roupa da shein véi meu sonho pior q fast fashion a modelo smp usa p e não tem nem foto de cliente q nem na shein vc compra e se fode vo compra da shein hj ctz q vo sair da depressão tava tentando achar aquele anel do cal com a pedra preta na shein achei um parecido mas tenho medo de ser mt ruim 80 reais em um ovo de páscoa vem oq dentro roupa da shein porque é que eu entrei na shein favoritando um monte de coisa da shein mas é aquilo vou comprar n vou desinstalar shoop e a shein do meu celular porquê o tanto de dinheiro que eu gasto comprando besteira nesses dois app da não 🤦🏼\\u200d♀️ consegui pedir na shein só falta aceitar o pagamento mano a gabriela fica falando da shein pqp vai toma no cu shein voce é podre meu sonho era comprar na shein mas ouvi coisas horríveis sobre daí desanimei \\U0001f972 professora falando de consumo consciente na aula e eu esperando minhas compras da shein assim 🙈🙈🙈🙈🙈🙈😑😑😑 rt n comprem roupa na shein e também o povo quer comprar corset na shein 🗣️ depois dá ruim no corpo e não sabem por que minhas comprinhas da shein chegaram comprei poucas coisas pq é a primeira vez ne e já me decepcionei um pouco rt pertenço a 1 da população que ainda não comprou roupa da shein gente que site meio merdinha da shein shein tou áspera da encomenda pra que que eu fui baixar o app da shein imagina se vc descobre que a grande parte das grandes marcas são como a shein kkkkkkkk httpstcozr9zhdigrx amiga pior que foi na shein bizarro como existe cadelinha da shein que merda shein pfv coloque frete grátis sem preço mínimo para eu comprar o presente da minha amiga🥀🥀🥀 rt n posso entrar na shein q da vontade de comprar tudo😣 shein falsifica esse blusãozinho da adika pq eu n tenho dinheiro p comprar em dolar gnt as roupas q comprei na shein chegaram 🥺🥺🥺🥺🥺🥺🥺🥺🥺🥺🥺🥺🥺🥺🥺🥺🥺🥺🥺🥺🥺🥺🥺🥺🥺🥺🥺🥺🥺🥺🥺🥺🥺🥺🥺🥺🥺🥺🥺🥺🥺🥺🥺🥺🥺🥺🥺🥺🥺🥺🥺🥺🥺🥺🥺🥺🥺🥺🥺🥺🥺🥺🥺🥺🥺🥺🥺🥺🥺🥺🥺🥺🥺🥺🥺🥺🥺🥺🥺🥺🥺🥺🥺🥺🥺🥺🥺🥺🥺🥺🥺🥺 comprei um macaquinho na shein tô com medo de não chegar 🤡 shein bosta achei o brinco de cobra da shein bem estranho minha compra da shein foi aprovada e agora é ficar contando os dias pros meus mimos chegarem 🤧 vou cometer o erro de comprar roupa na shein trsite com a minha mãe pq ela comprou shein rt temos um problema chamado ✨shein✨ rt eu passo o meu dia inteiro a ver pessoal a abrir merdas da shein minhas roupas da shein não chegam nunca que ódio a moça falou q viu a bolsa q eu queria na shein fui ver e kd né 🙄 essa cena da shein não quero saber literalmente participem de fast fashion vai ser impossível nunca depender da mesma ou indústria porque não está só relacionado com a roupamas a sheina shein em si é a pior 😈😈😈😈😈😈💁🏽\\u200d♀️💁🏽\\u200d♀️💁🏽\\u200d♀️💁🏽\\u200d♀️💁🏽\\u200d♀️💁🏽\\u200d♀️💃🏽💃🏽💃🏽💃🏽💃🏽💃🏽💃🏽💃🏽💃🏽💃🏽💃🏽💃🏽 fiz compra na shein ontem e já olhei 4 vezes o site pra vê se já enviaram 🤡🤡 acabei de fazer minha primeira compra no shein e tô torcendo real pra não ser golpe fé 🙏🏼 shein é confiável mesmo shein é muito errado😫 nao compro mais nessa desgraça de shein do infernl minhas roupas da shein chegaram e eu to completamente triste shein ainda vai falir um dia hora de comprar roupa na shein para o verao so nao compro tops da ultima vez veio um top do tamanho de uma cueca 🤡 pq q a shein está nas tendências Tem coisas tão feias kkk a roupa da shein nota 210 😂 não me apanham mais nisto só aproveitei os acessórios vo mata a shein 😡😡😡 tava namorando umas coisas na shein não achei nada uau de barato como dizem queria compra uma roupa naquela loja shein mas tô com medo q n venha acabei de gastar meu rim na shein e espero que não tenha caído em golpe 🤡 pessoas que já compraram na shein é confiável Já ouvi falarem mal eu fico com mt medo de comprar na shein e n chegar 🤡 opa sei lá não comprem na shein fazendo o carrinho da shein ja porque do jeito que sou sortuda os biquinis nao chegam até o fim do ano to sentindo q a shein vai acabar com todo o meu dinheiro shein tá me liberando sintomas de ansiedade tá amarrado n peço nunca mais lembrei é da shein 😓 aiai fala sobre meio ambiente mas sustenta a fast fashion da shein hahahah não sei pra que eu abro stories das pessoas só passo raiva vendo o povo comprando coisa da shein mega insatisfeita com minhas brusinha da shein socorro shein é HORRÍVEL o que você tem contra a shein fiquei curiosa ajahshshshs eu vi umas na shein coisa mais esquisita so mandei vir 1 cena da shein e não curti comprei umas roupinhas na shein fiquei feia'"
      ]
     },
     "execution_count": 1068,
     "metadata": {},
     "output_type": "execute_result"
    }
   ],
   "source": [
    "classificador2limpo= cleanup(classificador2)\n",
    "classificador2limpo"
   ]
  },
  {
   "cell_type": "markdown",
   "metadata": {},
   "source": [
    "## CLASSIFICADOR 3"
   ]
  },
  {
   "cell_type": "code",
   "execution_count": 1069,
   "metadata": {},
   "outputs": [],
   "source": [
    "filtro3= train[\"Classificação\"] == 3\n",
    "classificador3= ' '.join(train.loc[filtro3, 'Treinamento'])"
   ]
  },
  {
   "cell_type": "code",
   "execution_count": 1070,
   "metadata": {},
   "outputs": [
    {
     "data": {
      "text/plain": [
       "'minhas compras da shein não saem de curitiba nunca que demora pra essas roupas da shein chegar que saco ay caras o fim de uma era minhas compras da shein foram taxadas httpstcohdyoasci5a comprei na shein maquiagem uma vez e depois descobri que a produção dele é 100 escrava me arrependo até hoje eu deveria ter imagino por eles serem uma marca de fast fashion o que em si não é algo para se orgulhar uma coisa que me arrependo é comprar roupas na shein a qualidade dos tecidos é tao ruim que chega a dar dó e também porque descobri que todos irritam minha pele comprei roupa ontem na shein e ainda nao chegou 😕 loja toxica do crl ia comprar um vestido na shein porém está esgotado 🥺 tô triste doida para receber a encomenda da shein que eu fui taxada paguei taxa pra porra das minhas coisas da shein e nunca mais chegou q ódio shein tem que parar de roubar as marcar pequenas a shein o que me mata são os valores dos fretes e quando eles copiam oq alguém postou e colocan como se fosse eles mesmos 😐nowunitedturnitup will brabo da galera best anime last anime fortniteseason6 filter1yearonbillboard shein 4yearsforbb2trailerstorm felipe neto 기범버블 froto stan friends httpstcohiyczo8vzc rt além de mais os tecidos da roupa poluírem bastante porque é 100 poliéster para não falar do facto da shein rouba modelos… comprei um biquíni na shein chegou e não deu no meu peito 🤡🤡🤡🤡🤡🤦🏾\\u200d♀️🤦🏾\\u200d♀️🤦🏾\\u200d♀️ morro de vontade de comprar na shein mas fico pensando se eu for taxada mó medo da shein ter me enganado já tem 16 dias q minha encomenda tá em sp não chega nunca os bagulho da shein mei deis baixei o app da shein cada roupa linda pena que não tem o meu tamanho 🥺🥺🥺 tou farta de esperar pela a encomenda shein 🥺 porra de shein o que bagulho so tem roupa feia mais um dia vendo gente falar mal da shein pq pasmem ela polui o meio ambientesim cristal lapidado a shein é a única empresa de roupa que polui o ambiente essa blusa aí q vc comprou na zara não fez mal algum será que minhas coisinhas da shein poderiam chegar tipo hoje ou vai atrasar mais um mês feliz que minhas coisinhas da shein chegou porém errei no tamanho como smp nunca acerto nos meus tamanhos 🤡 de 8 coisas só 2 n ficou como eu queria mas só eu emagrecer tbm que dá certo kkk terceira vez taxada na shein 🤡 já vai fazer quase 2 meses e minhas coisas da shein ainda n chegaram eu vou morrer de ansiedade pelas minhas coisinhas da shein que não chegam logo rt porque é que eu entrei na shein eles são pessimos em questão de ética difícil ficar bonito com esse negócio né se minhas roupas da shein n chegar entrei no site da shein p ver as roupinhas meu senhor tudo caro 💔 alguém me sabe dizer qual é o tempo de entrega da shein falam que demora tantoooooo a shein é uma loja que faz n só trabalho escravo como tb copia roupa de marca não tem nenhum certificado ou comprovativo de onde eles trabalham e muitas outras merdas q sao ilegais foda eh que shein eh só no boleto ne aconteceu fui taxada na shein em 112 reais e agora não sou mais shein lover dps de ter sido taxada rt e quando eles copiam oq alguém postou e colocan como se fosse eles mesmos 😐nowunitedturnitup will brabo… a calça q comprei da shein não serviu ☹️ eu tenho um medo tão grande de comprar na shein e ser taxada😩 queria entender a shein comprei uma vez e demorou 1 ano comprei de novo e demorou uma semana ja vi tando comentario ruim de la sumiram com uma bolsa q minha irma comprou desisti da shein extremamente decepcionada nas minhas coisinhas da shein que chegaram a calça nova q eu comprei da shein achei q ia ficar mt apertada e meu deus ta mt folgada to parecendo mesmo um mlk metalero porra de shein o que bagulho so tem roupa feia meu pedido da shein não chegou eu vou surtaaaaar n compro na sheinnão quero compactuar com mais uma marca que escraviza seres humanos🥺 a minha encomenda da shein ainda não chegou parem de falar sobre a shein eles sustentam trabalho infantil ainda não chegou minha comprinha da shein porra de shein o que bagulho so tem roupa feia se minhas roupas da shein n chegar minhas compras da shein e meu colar só shoppe vai chegar nunca é oh raiva faz 1 mes e 10 dias e minhas roupas da shein ainda n chegaram minhas compras na shein vão chegar nunca já tô boladona 😡 rt a minha encomenda da shein ainda não chegou na shein acho q ha mas n sei como pesquisar que site merda😭 faz 4 dias que minha encomenda da shein saiu da china e ate agr nenhuma atualização😡 To puta não chegou minhas roupas até hoje shein voce me paga rt a shein tem umas roupas lindinhas mas a qualidade parece duvidosa e minhas compras na shein q esta em trânsito faz 199 anos em um lugar que eu não sei já tava acostumada com minhas compras chegarem em 1012 dias 😭😭😭😭😭 shein você me prometeu minhas compras da shein tao travadas em algum lugar aaa vo surta se extraviarem eu fico puta'"
      ]
     },
     "execution_count": 1070,
     "metadata": {},
     "output_type": "execute_result"
    }
   ],
   "source": [
    "classificador3limpo= cleanup(classificador3)\n",
    "classificador3limpo"
   ]
  },
  {
   "cell_type": "markdown",
   "metadata": {},
   "source": [
    "## Dividindo"
   ]
  },
  {
   "cell_type": "code",
   "execution_count": 1071,
   "metadata": {},
   "outputs": [],
   "source": [
    "from nltk.tokenize.casual import TweetTokenizer\n",
    "t = TweetTokenizer()\n",
    "cla0limposepa= t.tokenize(classificador0limpo)"
   ]
  },
  {
   "cell_type": "code",
   "execution_count": 1072,
   "metadata": {},
   "outputs": [],
   "source": [
    "cla1limposepa= t.tokenize(classificador1limpo)"
   ]
  },
  {
   "cell_type": "code",
   "execution_count": 1073,
   "metadata": {},
   "outputs": [],
   "source": [
    "cla2limposepa= t.tokenize(classificador2limpo)"
   ]
  },
  {
   "cell_type": "code",
   "execution_count": 1074,
   "metadata": {},
   "outputs": [],
   "source": [
    "cla3limposepa= t.tokenize(classificador3limpo)"
   ]
  },
  {
   "cell_type": "markdown",
   "metadata": {},
   "source": [
    "## CLASSIFICADOR NAIVE BAYES"
   ]
  },
  {
   "cell_type": "markdown",
   "metadata": {},
   "source": [
    "___\n",
    "### Verificando a performance do Classificador\n",
    "\n",
    "Agora você deve testar o seu classificador com a base de Testes."
   ]
  },
  {
   "cell_type": "code",
   "execution_count": 1075,
   "metadata": {},
   "outputs": [
    {
     "name": "stdout",
     "output_type": "stream",
     "text": [
      "0      1\n",
      "1      3\n",
      "2      3\n",
      "3      0\n",
      "4      0\n",
      "      ..\n",
      "295    2\n",
      "296    1\n",
      "297    2\n",
      "298    0\n",
      "299    2\n",
      "Name: Classificação, Length: 300, dtype: int64\n"
     ]
    }
   ],
   "source": [
    "total = cla1limposepa + cla0limposepa + cla2limposepa + cla3limposepa\n",
    "print (train['Classificação'])"
   ]
  },
  {
   "cell_type": "code",
   "execution_count": 1076,
   "metadata": {},
   "outputs": [],
   "source": [
    "train['Classificação'] = train['Classificação'].astype('category')\n",
    "train['Classificação'].cat.categories = ['Muito Irrelevante','Irrelevante', 'Relevante', 'Muito Relevante']"
   ]
  },
  {
   "cell_type": "code",
   "execution_count": 1077,
   "metadata": {},
   "outputs": [
    {
     "name": "stdout",
     "output_type": "stream",
     "text": [
      "0            Irrelevante\n",
      "1        Muito Relevante\n",
      "2        Muito Relevante\n",
      "3      Muito Irrelevante\n",
      "4      Muito Irrelevante\n",
      "             ...        \n",
      "295            Relevante\n",
      "296          Irrelevante\n",
      "297            Relevante\n",
      "298    Muito Irrelevante\n",
      "299            Relevante\n",
      "Name: Classificação, Length: 300, dtype: category\n",
      "Categories (4, object): ['Muito Irrelevante', 'Irrelevante', 'Relevante', 'Muito Relevante']\n"
     ]
    }
   ],
   "source": [
    "print(train['Classificação'])"
   ]
  },
  {
   "cell_type": "code",
   "execution_count": 1078,
   "metadata": {},
   "outputs": [],
   "source": [
    "# 0 - MI -> comentarios aleatórios mas positivos\n",
    "# 1 - I -> falando bem\n",
    "# 2 - R -> falando mal\n",
    "# 3 - MR -> falando mal de algo específico da marca"
   ]
  },
  {
   "cell_type": "code",
   "execution_count": 1079,
   "metadata": {
    "scrolled": false
   },
   "outputs": [],
   "source": [
    "classificacaorelevante= train['Classificação'] == 'Relevante'\n",
    "classificacaorelevante = train.loc[classificacaorelevante,['Treinamento']].copy()\n",
    "#classificacaorelevante"
   ]
  },
  {
   "cell_type": "code",
   "execution_count": 1080,
   "metadata": {
    "scrolled": true
   },
   "outputs": [],
   "source": [
    "classificacaoirrelevante= train['Classificação'] == 'Irrelevante'\n",
    "classificacaoirrelevante = train.loc[classificacaoirrelevante,['Treinamento']].copy()\n",
    "#classificacaoirrelevante"
   ]
  },
  {
   "cell_type": "code",
   "execution_count": 1081,
   "metadata": {},
   "outputs": [],
   "source": [
    "classificacaomuitoirrelevante= train['Classificação'] == 'Muito Irrelevante'\n",
    "classificacaomuitoirrelevante = train.loc[classificacaomuitoirrelevante,['Treinamento']].copy()\n",
    "#classificacaoirrelevante"
   ]
  },
  {
   "cell_type": "code",
   "execution_count": 1082,
   "metadata": {},
   "outputs": [],
   "source": [
    "classificacaomuitorelevante= train['Classificação'] == 'Muito Relevante'\n",
    "classificacaomuitorelevante = train.loc[classificacaomuitorelevante,['Treinamento']].copy()\n",
    "#classificacaoirrelevante"
   ]
  },
  {
   "cell_type": "markdown",
   "metadata": {},
   "source": [
    "## FÓRMULA"
   ]
  },
  {
   "cell_type": "markdown",
   "metadata": {},
   "source": [
    "$\\quad P(R|palavra) = \\frac{P(palavra|R)P(R)}{P(palavra)}$\n",
    "\n",
    "e que:\n",
    "\n",
    "$\\quad P(IR|palavra) = \\frac{P(palavra|IR)P(IR)}{P(palavra)}$\n"
   ]
  },
  {
   "cell_type": "code",
   "execution_count": 1083,
   "metadata": {},
   "outputs": [
    {
     "data": {
      "text/plain": [
       "0.3534503486415004"
      ]
     },
     "execution_count": 1083,
     "metadata": {},
     "output_type": "execute_result"
    }
   ],
   "source": [
    "#Probabilidade de uma palavra ser muito irrelevante\n",
    "p_mi=len(cla0limposepa)/len(total)\n",
    "p_mi"
   ]
  },
  {
   "cell_type": "code",
   "execution_count": 1084,
   "metadata": {},
   "outputs": [
    {
     "data": {
      "text/plain": [
       "0.1709545563837461"
      ]
     },
     "execution_count": 1084,
     "metadata": {},
     "output_type": "execute_result"
    }
   ],
   "source": [
    "#Probabilidade de uma palavra ser irrelevante\n",
    "p_i= len(cla1limposepa)/len(total)\n",
    "p_i"
   ]
  },
  {
   "cell_type": "code",
   "execution_count": 1085,
   "metadata": {},
   "outputs": [
    {
     "data": {
      "text/plain": [
       "0.24765568646309208"
      ]
     },
     "execution_count": 1085,
     "metadata": {},
     "output_type": "execute_result"
    }
   ],
   "source": [
    "#Probabilidade de uma palavra ser relevante\n",
    "p_r= len(cla2limposepa)/len(total)\n",
    "p_r"
   ]
  },
  {
   "cell_type": "code",
   "execution_count": 1086,
   "metadata": {},
   "outputs": [
    {
     "data": {
      "text/plain": [
       "0.22793940851166145"
      ]
     },
     "execution_count": 1086,
     "metadata": {},
     "output_type": "execute_result"
    }
   ],
   "source": [
    "#Probabilidade de uma palavra ser muito relevante\n",
    "p_mr= len(cla3limposepa)/len(total)\n",
    "p_mr"
   ]
  },
  {
   "cell_type": "markdown",
   "metadata": {},
   "source": [
    "## Frequências Relativas e Absolutas"
   ]
  },
  {
   "cell_type": "code",
   "execution_count": 1087,
   "metadata": {},
   "outputs": [],
   "source": [
    "#Frequencias relativas e absolutas da palavras dentro do grupo muito irrelevante\n",
    "series0= pd.Series(cla0limposepa)\n",
    "freqab0= series0.value_counts()\n",
    "freqrel0= series0.value_counts(normalize=True)"
   ]
  },
  {
   "cell_type": "code",
   "execution_count": 1088,
   "metadata": {},
   "outputs": [],
   "source": [
    "#Frequencias relativas e absolutas da palavras dentro do grupo irrelevante\n",
    "series1 = pd.Series(cla1limposepa)\n",
    "freqab1= series1.value_counts()\n",
    "freqrel1= series1.value_counts(normalize=True)"
   ]
  },
  {
   "cell_type": "code",
   "execution_count": 1089,
   "metadata": {},
   "outputs": [],
   "source": [
    "#Frequencias relativas e absolutas da palavras dentro do grupo relevante\n",
    "series2 = pd.Series(cla2limposepa)\n",
    "freqab2= series2.value_counts()\n",
    "freqrel2= series2.value_counts(normalize=True)"
   ]
  },
  {
   "cell_type": "code",
   "execution_count": 1090,
   "metadata": {},
   "outputs": [],
   "source": [
    "#Frequencias relativas e absolutas da palavras dentro do grupo muito relevante\n",
    "series3 = pd.Series(cla3limposepa)\n",
    "freqab3= series3.value_counts()\n",
    "freqrel3= series3.value_counts(normalize=True)"
   ]
  },
  {
   "cell_type": "markdown",
   "metadata": {},
   "source": [
    "## Classificando"
   ]
  },
  {
   "cell_type": "code",
   "execution_count": 1091,
   "metadata": {},
   "outputs": [],
   "source": [
    "def classifica (frase):\n",
    "    \n",
    "    p_mi = 0.3534503486415004\n",
    "    p_i = 0.1709545563837461\n",
    "    p_r = 0.24765568646309208\n",
    "    p_mr = 0.22793940851166145\n",
    "    prob_frase_dado_MI= 1\n",
    "    prob_frase_dado_I= 1\n",
    "    prob_frase_dado_R= 1\n",
    "    prob_frase_dado_MR= 1\n",
    "    total_palavras= 1000\n",
    "    beta= 1\n",
    "    \n",
    "    frase= frase.split(' ')\n",
    "    for palavra in frase:\n",
    "        \n",
    "        #probabilidade da frase ser muito irrelevante\n",
    "        if palavra in freqab0:\n",
    "            prob_frase_dado_MI *= ((freqab0[palavra]+beta)/(total_palavras+freqab0.sum()))\n",
    "                                  \n",
    "        if palavra not in freqab0:\n",
    "             prob_frase_dado_MI *= (beta/(total_palavras+freqab0.sum()))\n",
    "        \n",
    "        #probabilidade da frase ser irrelevante\n",
    "        if palavra in freqab1:\n",
    "            prob_frase_dado_I *= ((freqab1[palavra]+beta)/(total_palavras+freqab1.sum()))\n",
    "        \n",
    "        if palavra not in freqab1:\n",
    "            prob_frase_dado_I *= (beta/(total_palavras+freqab1.sum()))\n",
    "        \n",
    "        #probabilidade da frase ser relevante\n",
    "        if palavra in freqab2:\n",
    "            prob_frase_dado_R *= ((freqab2[palavra]+beta)/(total_palavras+freqab2.sum()))\n",
    "        \n",
    "        if palavra not in freqab2:\n",
    "            prob_frase_dado_R *= (beta/(total_palavras+freqab2.sum()))\n",
    "        \n",
    "        #probabilidade da frase ser muito relevante\n",
    "        if palavra in freqab3:\n",
    "            prob_frase_dado_MR *= ((freqab3[palavra]+beta)/(total_palavras+freqab3.sum()))\n",
    "        \n",
    "        if palavra not in freqab3:\n",
    "            prob_frase_dado_MR *= (beta/(total_palavras+freqab3.sum()))\n",
    "                                   \n",
    "    probMI_dado_frase = p_mi*prob_frase_dado_MI\n",
    "    probI_dado_frase = p_i*prob_frase_dado_I\n",
    "    probR_dado_frase = p_r*prob_frase_dado_R\n",
    "    probMR_dado_frase = p_mr*prob_frase_dado_MR\n",
    "    probabilidades = [probMI_dado_frase, probI_dado_frase, probR_dado_frase, probMR_dado_frase]\n",
    "    \n",
    "    if max(probabilidades) == probabilidades[0]: \n",
    "        return 'Muito Irrelevante'\n",
    "    if max(probabilidades) == probabilidades[1]:\n",
    "        return 'Irrelevante'\n",
    "    if max(probabilidades) == probabilidades[2]: \n",
    "        return 'Relevante'\n",
    "    if max(probabilidades) == probabilidades[3]:\n",
    "        return 'Muito Relevante'"
   ]
  },
  {
   "cell_type": "code",
   "execution_count": 1092,
   "metadata": {},
   "outputs": [],
   "source": [
    "#print(classifica(\"\"))"
   ]
  },
  {
   "cell_type": "markdown",
   "metadata": {},
   "source": [
    "___\n",
    "### Qualidade do Classificador a partir de novas separações dos tweets entre Treinamento e Teste\n",
    "\n"
   ]
  },
  {
   "cell_type": "markdown",
   "metadata": {},
   "source": [
    "#### Classificação dos Tweets da planilha de Treinamento"
   ]
  },
  {
   "cell_type": "code",
   "execution_count": 1093,
   "metadata": {},
   "outputs": [],
   "source": [
    "train['Classificador'] = train['Treinamento'].apply(classifica)"
   ]
  },
  {
   "cell_type": "code",
   "execution_count": 1094,
   "metadata": {},
   "outputs": [
    {
     "data": {
      "text/html": [
       "<div>\n",
       "<style scoped>\n",
       "    .dataframe tbody tr th:only-of-type {\n",
       "        vertical-align: middle;\n",
       "    }\n",
       "\n",
       "    .dataframe tbody tr th {\n",
       "        vertical-align: top;\n",
       "    }\n",
       "\n",
       "    .dataframe thead th {\n",
       "        text-align: right;\n",
       "    }\n",
       "</style>\n",
       "<table border=\"1\" class=\"dataframe\">\n",
       "  <thead>\n",
       "    <tr style=\"text-align: right;\">\n",
       "      <th>Classificador</th>\n",
       "      <th>Irrelevante</th>\n",
       "      <th>Muito Irrelevante</th>\n",
       "      <th>Muito Relevante</th>\n",
       "      <th>Relevante</th>\n",
       "    </tr>\n",
       "    <tr>\n",
       "      <th>Classificação</th>\n",
       "      <th></th>\n",
       "      <th></th>\n",
       "      <th></th>\n",
       "      <th></th>\n",
       "    </tr>\n",
       "  </thead>\n",
       "  <tbody>\n",
       "    <tr>\n",
       "      <th>Muito Irrelevante</th>\n",
       "      <td>0.007</td>\n",
       "      <td>0.307</td>\n",
       "      <td>0.01</td>\n",
       "      <td>0.003</td>\n",
       "    </tr>\n",
       "    <tr>\n",
       "      <th>Irrelevante</th>\n",
       "      <td>0.183</td>\n",
       "      <td>0.023</td>\n",
       "      <td>0.00</td>\n",
       "      <td>0.007</td>\n",
       "    </tr>\n",
       "    <tr>\n",
       "      <th>Relevante</th>\n",
       "      <td>0.003</td>\n",
       "      <td>0.007</td>\n",
       "      <td>0.01</td>\n",
       "      <td>0.240</td>\n",
       "    </tr>\n",
       "    <tr>\n",
       "      <th>Muito Relevante</th>\n",
       "      <td>0.003</td>\n",
       "      <td>0.003</td>\n",
       "      <td>0.19</td>\n",
       "      <td>0.003</td>\n",
       "    </tr>\n",
       "  </tbody>\n",
       "</table>\n",
       "</div>"
      ],
      "text/plain": [
       "Classificador      Irrelevante  Muito Irrelevante  Muito Relevante  Relevante\n",
       "Classificação                                                                \n",
       "Muito Irrelevante        0.007              0.307             0.01      0.003\n",
       "Irrelevante              0.183              0.023             0.00      0.007\n",
       "Relevante                0.003              0.007             0.01      0.240\n",
       "Muito Relevante          0.003              0.003             0.19      0.003"
      ]
     },
     "execution_count": 1094,
     "metadata": {},
     "output_type": "execute_result"
    }
   ],
   "source": [
    "tabela = pd.crosstab(train['Classificação'], train['Classificador'], normalize='all').round(3)\n",
    "tabela"
   ]
  },
  {
   "cell_type": "code",
   "execution_count": 1095,
   "metadata": {},
   "outputs": [
    {
     "data": {
      "text/html": [
       "<div>\n",
       "<style scoped>\n",
       "    .dataframe tbody tr th:only-of-type {\n",
       "        vertical-align: middle;\n",
       "    }\n",
       "\n",
       "    .dataframe tbody tr th {\n",
       "        vertical-align: top;\n",
       "    }\n",
       "\n",
       "    .dataframe thead th {\n",
       "        text-align: right;\n",
       "    }\n",
       "</style>\n",
       "<table border=\"1\" class=\"dataframe\">\n",
       "  <thead>\n",
       "    <tr style=\"text-align: right;\">\n",
       "      <th>Classificador</th>\n",
       "      <th>Irrelevante</th>\n",
       "      <th>Muito Irrelevante</th>\n",
       "      <th>Muito Relevante</th>\n",
       "      <th>Relevante</th>\n",
       "    </tr>\n",
       "    <tr>\n",
       "      <th>Classificação</th>\n",
       "      <th></th>\n",
       "      <th></th>\n",
       "      <th></th>\n",
       "      <th></th>\n",
       "    </tr>\n",
       "  </thead>\n",
       "  <tbody>\n",
       "    <tr>\n",
       "      <th>Muito Irrelevante</th>\n",
       "      <td>0.020</td>\n",
       "      <td>0.939</td>\n",
       "      <td>0.031</td>\n",
       "      <td>0.010</td>\n",
       "    </tr>\n",
       "    <tr>\n",
       "      <th>Irrelevante</th>\n",
       "      <td>0.859</td>\n",
       "      <td>0.109</td>\n",
       "      <td>0.000</td>\n",
       "      <td>0.031</td>\n",
       "    </tr>\n",
       "    <tr>\n",
       "      <th>Relevante</th>\n",
       "      <td>0.013</td>\n",
       "      <td>0.026</td>\n",
       "      <td>0.038</td>\n",
       "      <td>0.923</td>\n",
       "    </tr>\n",
       "    <tr>\n",
       "      <th>Muito Relevante</th>\n",
       "      <td>0.017</td>\n",
       "      <td>0.017</td>\n",
       "      <td>0.950</td>\n",
       "      <td>0.017</td>\n",
       "    </tr>\n",
       "  </tbody>\n",
       "</table>\n",
       "</div>"
      ],
      "text/plain": [
       "Classificador      Irrelevante  Muito Irrelevante  Muito Relevante  Relevante\n",
       "Classificação                                                                \n",
       "Muito Irrelevante        0.020              0.939            0.031      0.010\n",
       "Irrelevante              0.859              0.109            0.000      0.031\n",
       "Relevante                0.013              0.026            0.038      0.923\n",
       "Muito Relevante          0.017              0.017            0.950      0.017"
      ]
     },
     "execution_count": 1095,
     "metadata": {},
     "output_type": "execute_result"
    }
   ],
   "source": [
    "tabelaporindex = pd.crosstab(train['Classificação'], train['Classificador'], normalize='index').round(3)\n",
    "tabelaporindex"
   ]
  },
  {
   "cell_type": "code",
   "execution_count": 1096,
   "metadata": {},
   "outputs": [
    {
     "data": {
      "text/plain": [
       "'92.0%'"
      ]
     },
     "execution_count": 1096,
     "metadata": {},
     "output_type": "execute_result"
    }
   ],
   "source": [
    "#porcentagem de acertos do classificador\n",
    "porcentagem = (tabela.iloc[0,1] + tabela.iloc[1,0] + tabela.iloc[2,3] + tabela.iloc[3,2])*100\n",
    "f'{porcentagem.round(2)}%'"
   ]
  },
  {
   "cell_type": "code",
   "execution_count": 1097,
   "metadata": {},
   "outputs": [],
   "source": [
    "#porcentagem de erro na planilha Treinamento\n"
   ]
  },
  {
   "cell_type": "markdown",
   "metadata": {},
   "source": [
    "## Verificando a performance do nosso classificador na planilha de Teste"
   ]
  },
  {
   "cell_type": "code",
   "execution_count": 1098,
   "metadata": {},
   "outputs": [
    {
     "data": {
      "text/html": [
       "<div>\n",
       "<style scoped>\n",
       "    .dataframe tbody tr th:only-of-type {\n",
       "        vertical-align: middle;\n",
       "    }\n",
       "\n",
       "    .dataframe tbody tr th {\n",
       "        vertical-align: top;\n",
       "    }\n",
       "\n",
       "    .dataframe thead th {\n",
       "        text-align: right;\n",
       "    }\n",
       "</style>\n",
       "<table border=\"1\" class=\"dataframe\">\n",
       "  <thead>\n",
       "    <tr style=\"text-align: right;\">\n",
       "      <th></th>\n",
       "      <th>Teste</th>\n",
       "      <th>Classificação</th>\n",
       "    </tr>\n",
       "  </thead>\n",
       "  <tbody>\n",
       "    <tr>\n",
       "      <th>0</th>\n",
       "      <td>que era ruim as roupas da shein</td>\n",
       "      <td>2</td>\n",
       "    </tr>\n",
       "    <tr>\n",
       "      <th>1</th>\n",
       "      <td>só mil reais pra pagar o meu carrinho na shein...</td>\n",
       "      <td>1</td>\n",
       "    </tr>\n",
       "    <tr>\n",
       "      <th>2</th>\n",
       "      <td>faz cinco dias que minha compra da shein saiu ...</td>\n",
       "      <td>3</td>\n",
       "    </tr>\n",
       "    <tr>\n",
       "      <th>3</th>\n",
       "      <td>fiz uma compra na shein mas tô achando que foi...</td>\n",
       "      <td>3</td>\n",
       "    </tr>\n",
       "    <tr>\n",
       "      <th>4</th>\n",
       "      <td>paga o meu carrinho de compras na shein e eu f...</td>\n",
       "      <td>0</td>\n",
       "    </tr>\n",
       "    <tr>\n",
       "      <th>...</th>\n",
       "      <td>...</td>\n",
       "      <td>...</td>\n",
       "    </tr>\n",
       "    <tr>\n",
       "      <th>195</th>\n",
       "      <td>eu sou doida pra comprar na shein mas fico com...</td>\n",
       "      <td>2</td>\n",
       "    </tr>\n",
       "    <tr>\n",
       "      <th>196</th>\n",
       "      <td>amor como funciona o rastreamento na shein to ...</td>\n",
       "      <td>2</td>\n",
       "    </tr>\n",
       "    <tr>\n",
       "      <th>197</th>\n",
       "      <td>inclusive to pra comprar na shein e toda vida ...</td>\n",
       "      <td>3</td>\n",
       "    </tr>\n",
       "    <tr>\n",
       "      <th>198</th>\n",
       "      <td>shein sua vagabunda cade minhas coisaaas</td>\n",
       "      <td>2</td>\n",
       "    </tr>\n",
       "    <tr>\n",
       "      <th>199</th>\n",
       "      <td>é da shein pq quando eu comprei ficou parado e...</td>\n",
       "      <td>2</td>\n",
       "    </tr>\n",
       "  </tbody>\n",
       "</table>\n",
       "<p>200 rows × 2 columns</p>\n",
       "</div>"
      ],
      "text/plain": [
       "                                                 Teste  Classificação\n",
       "0                      que era ruim as roupas da shein              2\n",
       "1    só mil reais pra pagar o meu carrinho na shein...              1\n",
       "2    faz cinco dias que minha compra da shein saiu ...              3\n",
       "3    fiz uma compra na shein mas tô achando que foi...              3\n",
       "4    paga o meu carrinho de compras na shein e eu f...              0\n",
       "..                                                 ...            ...\n",
       "195  eu sou doida pra comprar na shein mas fico com...              2\n",
       "196  amor como funciona o rastreamento na shein to ...              2\n",
       "197  inclusive to pra comprar na shein e toda vida ...              3\n",
       "198           shein sua vagabunda cade minhas coisaaas              2\n",
       "199  é da shein pq quando eu comprei ficou parado e...              2\n",
       "\n",
       "[200 rows x 2 columns]"
      ]
     },
     "execution_count": 1098,
     "metadata": {},
     "output_type": "execute_result"
    }
   ],
   "source": [
    "test = pd.read_excel(filename, sheet_name = 'Teste')\n",
    "test['Teste'] = test['Teste'].astype('str')\n",
    "test['Teste'] = test['Teste'].apply(cleanup)\n",
    " \n",
    "test"
   ]
  },
  {
   "cell_type": "code",
   "execution_count": 1099,
   "metadata": {},
   "outputs": [],
   "source": [
    "test['Classificação'] = test['Classificação'].astype('category')\n",
    "test['Classificação'].cat.categories = ['Muito Irrelevante','Irrelevante', 'Relevante', 'Muito Relevante']"
   ]
  },
  {
   "cell_type": "code",
   "execution_count": 1100,
   "metadata": {},
   "outputs": [],
   "source": [
    "test['Classificador'] = test['Teste'].apply(classifica)"
   ]
  },
  {
   "cell_type": "code",
   "execution_count": 1101,
   "metadata": {},
   "outputs": [
    {
     "data": {
      "text/html": [
       "<div>\n",
       "<style scoped>\n",
       "    .dataframe tbody tr th:only-of-type {\n",
       "        vertical-align: middle;\n",
       "    }\n",
       "\n",
       "    .dataframe tbody tr th {\n",
       "        vertical-align: top;\n",
       "    }\n",
       "\n",
       "    .dataframe thead th {\n",
       "        text-align: right;\n",
       "    }\n",
       "</style>\n",
       "<table border=\"1\" class=\"dataframe\">\n",
       "  <thead>\n",
       "    <tr style=\"text-align: right;\">\n",
       "      <th>Classificador</th>\n",
       "      <th>Irrelevante</th>\n",
       "      <th>Muito Irrelevante</th>\n",
       "      <th>Muito Relevante</th>\n",
       "      <th>Relevante</th>\n",
       "    </tr>\n",
       "    <tr>\n",
       "      <th>Classificação</th>\n",
       "      <th></th>\n",
       "      <th></th>\n",
       "      <th></th>\n",
       "      <th></th>\n",
       "    </tr>\n",
       "  </thead>\n",
       "  <tbody>\n",
       "    <tr>\n",
       "      <th>Muito Irrelevante</th>\n",
       "      <td>0.040</td>\n",
       "      <td>0.210</td>\n",
       "      <td>0.040</td>\n",
       "      <td>0.055</td>\n",
       "    </tr>\n",
       "    <tr>\n",
       "      <th>Irrelevante</th>\n",
       "      <td>0.095</td>\n",
       "      <td>0.045</td>\n",
       "      <td>0.000</td>\n",
       "      <td>0.020</td>\n",
       "    </tr>\n",
       "    <tr>\n",
       "      <th>Relevante</th>\n",
       "      <td>0.015</td>\n",
       "      <td>0.050</td>\n",
       "      <td>0.065</td>\n",
       "      <td>0.060</td>\n",
       "    </tr>\n",
       "    <tr>\n",
       "      <th>Muito Relevante</th>\n",
       "      <td>0.055</td>\n",
       "      <td>0.080</td>\n",
       "      <td>0.100</td>\n",
       "      <td>0.070</td>\n",
       "    </tr>\n",
       "  </tbody>\n",
       "</table>\n",
       "</div>"
      ],
      "text/plain": [
       "Classificador      Irrelevante  Muito Irrelevante  Muito Relevante  Relevante\n",
       "Classificação                                                                \n",
       "Muito Irrelevante        0.040              0.210            0.040      0.055\n",
       "Irrelevante              0.095              0.045            0.000      0.020\n",
       "Relevante                0.015              0.050            0.065      0.060\n",
       "Muito Relevante          0.055              0.080            0.100      0.070"
      ]
     },
     "execution_count": 1101,
     "metadata": {},
     "output_type": "execute_result"
    }
   ],
   "source": [
    "tabela2 = pd.crosstab(test['Classificação'], test['Classificador'], normalize='all')\n",
    "tabela2"
   ]
  },
  {
   "cell_type": "code",
   "execution_count": 1102,
   "metadata": {},
   "outputs": [
    {
     "data": {
      "text/html": [
       "<div>\n",
       "<style scoped>\n",
       "    .dataframe tbody tr th:only-of-type {\n",
       "        vertical-align: middle;\n",
       "    }\n",
       "\n",
       "    .dataframe tbody tr th {\n",
       "        vertical-align: top;\n",
       "    }\n",
       "\n",
       "    .dataframe thead th {\n",
       "        text-align: right;\n",
       "    }\n",
       "</style>\n",
       "<table border=\"1\" class=\"dataframe\">\n",
       "  <thead>\n",
       "    <tr style=\"text-align: right;\">\n",
       "      <th>Classificador</th>\n",
       "      <th>Irrelevante</th>\n",
       "      <th>Muito Irrelevante</th>\n",
       "      <th>Muito Relevante</th>\n",
       "      <th>Relevante</th>\n",
       "    </tr>\n",
       "    <tr>\n",
       "      <th>Classificação</th>\n",
       "      <th></th>\n",
       "      <th></th>\n",
       "      <th></th>\n",
       "      <th></th>\n",
       "    </tr>\n",
       "  </thead>\n",
       "  <tbody>\n",
       "    <tr>\n",
       "      <th>Muito Irrelevante</th>\n",
       "      <td>0.115942</td>\n",
       "      <td>0.608696</td>\n",
       "      <td>0.115942</td>\n",
       "      <td>0.159420</td>\n",
       "    </tr>\n",
       "    <tr>\n",
       "      <th>Irrelevante</th>\n",
       "      <td>0.593750</td>\n",
       "      <td>0.281250</td>\n",
       "      <td>0.000000</td>\n",
       "      <td>0.125000</td>\n",
       "    </tr>\n",
       "    <tr>\n",
       "      <th>Relevante</th>\n",
       "      <td>0.078947</td>\n",
       "      <td>0.263158</td>\n",
       "      <td>0.342105</td>\n",
       "      <td>0.315789</td>\n",
       "    </tr>\n",
       "    <tr>\n",
       "      <th>Muito Relevante</th>\n",
       "      <td>0.180328</td>\n",
       "      <td>0.262295</td>\n",
       "      <td>0.327869</td>\n",
       "      <td>0.229508</td>\n",
       "    </tr>\n",
       "  </tbody>\n",
       "</table>\n",
       "</div>"
      ],
      "text/plain": [
       "Classificador      Irrelevante  Muito Irrelevante  Muito Relevante  Relevante\n",
       "Classificação                                                                \n",
       "Muito Irrelevante     0.115942           0.608696         0.115942   0.159420\n",
       "Irrelevante           0.593750           0.281250         0.000000   0.125000\n",
       "Relevante             0.078947           0.263158         0.342105   0.315789\n",
       "Muito Relevante       0.180328           0.262295         0.327869   0.229508"
      ]
     },
     "execution_count": 1102,
     "metadata": {},
     "output_type": "execute_result"
    }
   ],
   "source": [
    "tabelaporindex2 = pd.crosstab(test['Classificação'], test['Classificador'], normalize='index', )\n",
    "tabelaporindex2"
   ]
  },
  {
   "cell_type": "code",
   "execution_count": 1103,
   "metadata": {
    "scrolled": true
   },
   "outputs": [
    {
     "data": {
      "text/plain": [
       "'O acerto do nosso classificador foi de: 46.5%'"
      ]
     },
     "execution_count": 1103,
     "metadata": {},
     "output_type": "execute_result"
    }
   ],
   "source": [
    "f'O acerto do nosso classificador foi de: {(tabela2.iloc[0,1]+tabela2.iloc[1,0]+tabela2.iloc[2,3]+tabela2.iloc[3,2])*100:.5g}%'"
   ]
  },
  {
   "cell_type": "markdown",
   "metadata": {},
   "source": [
    "#### Verdadeiros e falsos de cada categoria"
   ]
  },
  {
   "cell_type": "code",
   "execution_count": 1104,
   "metadata": {},
   "outputs": [
    {
     "name": "stdout",
     "output_type": "stream",
     "text": [
      "MUITO RELEVANTES\n",
      " A porcentagem de verdadeiros de muito relevantes foi de:32.79% \n",
      " A porcentagem de falsos de muito relevantes foi de:67.21%\n"
     ]
    }
   ],
   "source": [
    "MR_certos = (tabelaporindex2.iloc[3,2])*100\n",
    "MR_falsos = (1 - (tabelaporindex2.iloc[3,2]))*100\n",
    "print (\"MUITO RELEVANTES\\n A porcentagem de verdadeiros de muito relevantes foi de:{0}% \\n A porcentagem de falsos de muito relevantes foi de:{1}%\". format(MR_certos.round(2), MR_falsos.round(2)))\n"
   ]
  },
  {
   "cell_type": "code",
   "execution_count": 1105,
   "metadata": {},
   "outputs": [
    {
     "name": "stdout",
     "output_type": "stream",
     "text": [
      "RELEVANTES \n",
      " A porcentagem de verdadeiros de relevantes foi de:31.58% \n",
      " A porcentagem de falsos de relevantes foi de:68.42%\n"
     ]
    }
   ],
   "source": [
    "R_certos = (tabelaporindex2.iloc[2,3])*100\n",
    "R_falsos = (1 - (tabelaporindex2.iloc[2,3]))*100\n",
    "\n",
    "print(\"RELEVANTES \\n A porcentagem de verdadeiros de relevantes foi de:{0}% \\n A porcentagem de falsos de relevantes foi de:{1}%\". format(R_certos.round(2), R_falsos.round(2)))"
   ]
  },
  {
   "cell_type": "code",
   "execution_count": 1106,
   "metadata": {},
   "outputs": [
    {
     "name": "stdout",
     "output_type": "stream",
     "text": [
      "IRRELEVANTES \n",
      " A porcentagem de verdadeiros de irrelevantes foi de:59.38% \n",
      " A porcentagem de falsos de irrelevantes foi de:40.62%\n"
     ]
    }
   ],
   "source": [
    "I_certos = (tabelaporindex2.iloc[1,0])*100\n",
    "I_falsos = (1 -tabelaporindex2.iloc[1,0])*100\n",
    "print(\"IRRELEVANTES \\n A porcentagem de verdadeiros de irrelevantes foi de:{0}% \\n A porcentagem de falsos de irrelevantes foi de:{1}%\".format(I_certos.round(2), I_falsos.round(2)))"
   ]
  },
  {
   "cell_type": "code",
   "execution_count": 1107,
   "metadata": {},
   "outputs": [
    {
     "name": "stdout",
     "output_type": "stream",
     "text": [
      "MUITO IRRELEVANTES \n",
      " A porcentagem de verdadeiros de muito irrelevantes foi de:60.87% \n",
      " A porcentagem de falsos de muito irrelevantes foi de: 39.13%\n"
     ]
    }
   ],
   "source": [
    "MI_certos = (tabelaporindex2.iloc[0,1])*100\n",
    "MI_falsos = (1 -tabelaporindex2.iloc[0,1])*100\n",
    "print(\"MUITO IRRELEVANTES \\n A porcentagem de verdadeiros de muito irrelevantes foi de:{0}% \\n A porcentagem de falsos de muito irrelevantes foi de: {1}%\".format(MI_certos.round(2), MI_falsos.round(2)))"
   ]
  },
  {
   "cell_type": "markdown",
   "metadata": {},
   "source": [
    "#### Considerando verdadeiros e faltos "
   ]
  },
  {
   "cell_type": "markdown",
   "metadata": {},
   "source": [
    "Como apresentamos anteriormente consideramos como muito relevante os comentários negativos específicos, como relevante os comentários negativos mais gerais, como irrelevantes comentários positivos e como muito irrelevantes os comentários mais gerais e aleatórios. \n",
    "Então, achamos que seria válido levar em conta que os comentários muito relevantes ou relevantes que foram considerados como qualquer um dos dois estariam de certa formas corretos pois continuam sendo comentários negativos o único erro seria o nível de importância, mas continuaria sendo um comentário relevante, e os irrelevantes continuariam sendo irrelevantes.\n",
    "\n",
    "Em virtude disso, fizemos a mesma separação, em verdadeiro e falso, mas dividindo em importante e não importante.\n",
    "VERDADEIROS IMPORTANTES: Comentários relevantes e muitos relevantes classificados como um dos dois;\n",
    "FALSOS IMPORTANTES: Comentários relevantes e muitos relevantes classificados como irrelevantes ou muito irrelevantes;\n",
    "VERDADEIROS NÃO MPORTANTES: Comentários irrelevantes e muitos irrelevantes classificados como um dos dois;\n",
    "FALSOS NÃO IMPORTANTES: Comentários irrelevantes e muitos irrelevantes classificados como relevantes ou muito relevantes;"
   ]
  },
  {
   "cell_type": "code",
   "execution_count": 1108,
   "metadata": {},
   "outputs": [
    {
     "name": "stdout",
     "output_type": "stream",
     "text": [
      "IMPORTANTES \n",
      " A porcentagem de verdadeiros importantes foi de: 60.76% \n",
      " A porcentagem de falsos importantes foi de: 39.24%\n"
     ]
    }
   ],
   "source": [
    "Imp_verdadeiros = ((tabelaporindex2.iloc[3,2] + tabelaporindex2.iloc[2,3] + tabelaporindex2.iloc[3,3] +tabelaporindex2.iloc[2,2])/2)*100\n",
    "Imp_falsos = 100 - Imp_verdadeiros\n",
    "print(\"IMPORTANTES \\n A porcentagem de verdadeiros importantes foi de: {0}% \\n A porcentagem de falsos importantes foi de: {1}%\".format(Imp_verdadeiros.round(2), Imp_falsos.round(2)))"
   ]
  },
  {
   "cell_type": "code",
   "execution_count": 1109,
   "metadata": {},
   "outputs": [
    {
     "name": "stdout",
     "output_type": "stream",
     "text": [
      "NÃO IMPORTANTES \n",
      " A porcentagem de verdadeiros não importantes foi de: 79.98% \n",
      " A porcentagem de falsos não importantes foi de: 20.02%\n"
     ]
    }
   ],
   "source": [
    "NImp_verdadeiros = ((tabelaporindex2.iloc[1,1] + tabelaporindex2.iloc[1,0] + tabelaporindex2.iloc[0,1] +tabelaporindex2.iloc[0,0])/2)*100\n",
    "NImp_falsos = 100 - NImp_verdadeiros\n",
    "print(\"NÃO IMPORTANTES \\n A porcentagem de verdadeiros não importantes foi de: {0}% \\n A porcentagem de falsos não importantes foi de: {1}%\".format(NImp_verdadeiros.round(2), NImp_falsos.round(2)))"
   ]
  },
  {
   "cell_type": "markdown",
   "metadata": {},
   "source": [
    "## Conclusão"
   ]
  },
  {
   "cell_type": "code",
   "execution_count": 1110,
   "metadata": {
    "scrolled": false
   },
   "outputs": [
    {
     "data": {
      "image/png": "[encoded data removed]",
      "text/plain": [
       "<Figure size 1080x360 with 2 Axes>"
      ]
     },
     "metadata": {
      "needs_background": "light"
     },
     "output_type": "display_data"
    }
   ],
   "source": [
    "#comparação\n",
    "\n",
    "plt.figure(figsize=(15, 5))\n",
    "\n",
    "dado = test['Classificação'].value_counts(normalize =  True, sort = False)\n",
    "\n",
    "dadoc = test['Classificador'].value_counts(normalize =  True)\n",
    "\n",
    "\n",
    "colors = ['orange', 'yellow', 'green', 'red']\n",
    "colors2 = ['orange', 'green', 'red', 'yellow']\n",
    "\n",
    "plt.subplot(121)\n",
    "dado.plot.bar(stacked = True, color=colors) \n",
    "plt.xlabel('\\nRelevância dos tweets \"Teste\"\\n')\n",
    "plt.yticks([0,0.1, 0.15, 0.2, 0.25, 0.3, 0.35, 0.4])\n",
    "plt.ylabel('\\nPorcentagem dos tweets \"Teste\"\\n')\n",
    "plt.title('\\nAnálise de sentimento real\\n')\n",
    "\n",
    "plt.subplot(122)\n",
    "dadoc.plot.bar(stacked = True, color=colors2) \n",
    "plt.xlabel('\\nRelevância dos tweets \"Teste\"\\n')\n",
    "plt.ylabel('\\nPorcentagem dos tweets \"Teste\"\\n')\n",
    "plt.title('\\nAnálise de sentimento do classificador\\n')\n",
    "\n",
    "\n",
    "plt.show()"
   ]
  },
  {
   "cell_type": "markdown",
   "metadata": {},
   "source": [
    "### Como o Naive-Bayes trabalha com mensagens de dupla negação e sarcasmo?"
   ]
  },
  {
   "cell_type": "markdown",
   "metadata": {},
   "source": [
    "- O Naive Bayes trabalha com o conteúdo e classificação individual de cada palavra, ou seja, o classificador não leva em consideração a ordem em que essas palavras são posicionadas, portanto não entenderia uma declaração de sarcasmo ou dupla negação.\n"
   ]
  },
  {
   "cell_type": "markdown",
   "metadata": {},
   "source": [
    "### Por que devem continuar financiando o projeto?"
   ]
  },
  {
   "cell_type": "markdown",
   "metadata": {},
   "source": [
    "- A SHEIN deve continuar financiando o projeto pois já analisamos e concluímos uma das dores do consumidor da marca: A ENTREGA DOS PRODUTOS. Um lado muito importante para se avaliar quando há uma análise da empresa é o conceito de Net Promoter Score (NPS) que consiste numa classificação quanti-qualitativa de varia de 0 a 10 de acordo com a fidelidade e feedback de seus clientes. O NPS é importante para recomendações da empresa para outras pessoas do ciclo do usuário e até mesmo se após a primeira compra, os usuários continuam comprando ou não."
   ]
  },
  {
   "cell_type": "markdown",
   "metadata": {},
   "source": [
    "### Diferentes cenários de uso para o classificador Naive-Bayes:\n"
   ]
  },
  {
   "cell_type": "markdown",
   "metadata": {},
   "source": [
    "- Aplicativos como Outlook, Gmail, Yahoo, poderiam utilizar o nosso classificador a fim de ter uma conclusão e detecção de spams em certas mensagens que o usuário iria receber. \n",
    "\n",
    "- Em meio a um cenário pandêmico, eventos como a Fashion Week SP poderiam utilizar o classificador para ter um feedback do sentimento de pessoas que acompanhavam o desfile presencialmente e que agora precisam acompanhá-lo em um formato digital. Seria algo vantajoso para a empresa, pois conseguiriam abordar e solucionar certas necessidades e dores de seus clientes.\n"
   ]
  },
  {
   "cell_type": "markdown",
   "metadata": {},
   "source": [
    "### Aprimoramento:"
   ]
  },
  {
   "cell_type": "markdown",
   "metadata": {},
   "source": [
    "\n",
    "- Escolhemos aprimorar a dinâmica do nosso classificador – sem afetar o conteúdo da conclusão da base de dados – tirando menções de outros usuários do Twitter que não eram o foco do tema “SHEIN”. Isso não afetou a base de dados pois nosso classificador tem o objetivo de colher feedbacks da marca, não necessariamente envolve um usuário que foi marcado no Tweet.\n"
   ]
  },
  {
   "cell_type": "markdown",
   "metadata": {},
   "source": [
    "### Por que não podemos alimentar a base de Treinamento aplicando novos tweets e usando o mesmo classificador?"
   ]
  },
  {
   "cell_type": "markdown",
   "metadata": {},
   "source": [
    "\n",
    "- Não poderíamos implementar novos tweets na base de treinamento pois o nosso classificador já possui um viés sobre certas palavras para gerar uma conclusão se aquela declaração é relevante ou irrelevante. Ou seja, mesmo implementando mais tweets, o Naive-Bayes continuaria cometendo os mesmos erros."
   ]
  },
  {
   "cell_type": "markdown",
   "metadata": {},
   "source": [
    "# ITEM 6"
   ]
  },
  {
   "cell_type": "code",
   "execution_count": 1115,
   "metadata": {},
   "outputs": [],
   "source": [
    "def classifica2 (frase):\n",
    "    \n",
    "    p_MI\n",
    "    p_I\n",
    "    p_R\n",
    "    p_MR\n",
    "    prob_frase_dado_MI= 1\n",
    "    prob_frase_dado_I= 1\n",
    "    prob_frase_dado_R= 1\n",
    "    prob_frase_dado_MR= 1\n",
    "    total_palavras= 1000\n",
    "    beta= 1\n",
    "    \n",
    "    frase= frase.split(' ')\n",
    "    for palavra in frase:\n",
    "        \n",
    "        #probabilidade da frase ser muito irrelevante\n",
    "        if palavra in freqabMI:\n",
    "            prob_frase_dado_MI *= ((freqabMI[palavra]+beta)/(total_palavras+freqabMI.sum()))\n",
    "                                  \n",
    "        if palavra not in freqabMI:\n",
    "             prob_frase_dado_MI *= (beta/(total_palavras+freqabMI.sum()))\n",
    "        \n",
    "        #probabilidade da frase ser irrelevante\n",
    "        if palavra in freqabI:\n",
    "            prob_frase_dado_I *= ((freqabI[palavra]+beta)/(total_palavras+freqabI.sum()))\n",
    "        \n",
    "        if palavra not in freqabI:\n",
    "            prob_frase_dado_I *= (beta/(total_palavras+freqabI.sum()))\n",
    "        \n",
    "        #probabilidade da frase ser relevante\n",
    "        if palavra in freqabR:\n",
    "            prob_frase_dado_R *= ((freqabR[palavra]+beta)/(total_palavras+freqabR.sum()))\n",
    "        \n",
    "        if palavra not in freqabR:\n",
    "            prob_frase_dado_R *= (beta/(total_palavras+freqabR.sum()))\n",
    "        \n",
    "        #probabilidade da frase ser muito relevante\n",
    "        if palavra in freqabMR:\n",
    "            prob_frase_dado_MR *= ((freqabMR[palavra]+beta)/(total_palavras+freqabMR.sum()))\n",
    "        \n",
    "        if palavra not in freqabMR:\n",
    "            prob_frase_dado_MR *= (beta/(total_palavras+freqabMR.sum()))\n",
    "                                   \n",
    "    probMI_dado_frase = p_mi*prob_frase_dado_MI\n",
    "    probI_dado_frase = p_i*prob_frase_dado_I\n",
    "    probR_dado_frase = p_r*prob_frase_dado_R\n",
    "    probMR_dado_frase = p_mr*prob_frase_dado_MR\n",
    "    probabilidades = [probMI_dado_frase, probI_dado_frase, probR_dado_frase, probMR_dado_frase]\n",
    "    \n",
    "    if max(probabilidades) == probabilidades[0]: \n",
    "        return 'Muito Irrelevante'\n",
    "    if max(probabilidades) == probabilidades[1]:\n",
    "        return 'Irrelevante'\n",
    "    if max(probabilidades) == probabilidades[2]: \n",
    "        return 'Relevante'\n",
    "    if max(probabilidades) == probabilidades[3]:\n",
    "        return 'Muito Relevante'"
   ]
  },
  {
   "cell_type": "code",
   "execution_count": 1116,
   "metadata": {},
   "outputs": [
    {
     "ename": "AttributeError",
     "evalue": "'list' object has no attribute 'tokenize'",
     "output_type": "error",
     "traceback": [
      "\u001b[1;31m---------------------------------------------------------------------------\u001b[0m",
      "\u001b[1;31mAttributeError\u001b[0m                            Traceback (most recent call last)",
      "\u001b[1;32m<ipython-input-1116-5722e44e2d50>\u001b[0m in \u001b[0;36m<module>\u001b[1;34m\u001b[0m\n\u001b[0;32m     48\u001b[0m \u001b[1;33m\u001b[0m\u001b[0m\n\u001b[0;32m     49\u001b[0m     \u001b[1;31m#SEPARANDO\u001b[0m\u001b[1;33m\u001b[0m\u001b[1;33m\u001b[0m\u001b[1;33m\u001b[0m\u001b[0m\n\u001b[1;32m---> 50\u001b[1;33m     \u001b[0mclaMRpronto\u001b[0m \u001b[1;33m=\u001b[0m \u001b[0mt\u001b[0m\u001b[1;33m.\u001b[0m\u001b[0mtokenize\u001b[0m\u001b[1;33m(\u001b[0m\u001b[0mclaMRs\u001b[0m\u001b[1;33m)\u001b[0m\u001b[1;33m\u001b[0m\u001b[1;33m\u001b[0m\u001b[0m\n\u001b[0m\u001b[0;32m     51\u001b[0m     \u001b[0mclaRpronto\u001b[0m \u001b[1;33m=\u001b[0m \u001b[0mt\u001b[0m\u001b[1;33m.\u001b[0m\u001b[0mtokenize\u001b[0m\u001b[1;33m(\u001b[0m\u001b[0mclaRs\u001b[0m\u001b[1;33m)\u001b[0m\u001b[1;33m\u001b[0m\u001b[1;33m\u001b[0m\u001b[0m\n\u001b[0;32m     52\u001b[0m     \u001b[0mclaIpronto\u001b[0m \u001b[1;33m=\u001b[0m \u001b[0mt\u001b[0m\u001b[1;33m.\u001b[0m\u001b[0mtokenize\u001b[0m\u001b[1;33m(\u001b[0m\u001b[0mclaIs\u001b[0m\u001b[1;33m)\u001b[0m\u001b[1;33m\u001b[0m\u001b[1;33m\u001b[0m\u001b[0m\n",
      "\u001b[1;31mAttributeError\u001b[0m: 'list' object has no attribute 'tokenize'"
     ]
    }
   ],
   "source": [
    "#juntando as duas bases de dados em uma só \n",
    "train2 = train.drop(columns = [\"Classificador\"])\n",
    "train2.columns = [\"Tweets\", \"Classificação\"]\n",
    "\n",
    "\n",
    "test2 = test.drop(columns = [\"Classificador\"])\n",
    "test2.columns = [\"Tweets\", \"Classificação\"]\n",
    "\n",
    "MI_v=[]\n",
    "I_v = []\n",
    "R_v = []\n",
    "MR_v = []\n",
    "\n",
    "#jutando as dataframes\n",
    "tudo = test2.append(train2)\n",
    "tudo = tudo.reset_index(drop=True)\n",
    "\n",
    "for i in range (100):\n",
    "    #dividindo em treinamento e teste\n",
    "    tr = tudo.sample(frac = 0.6)\n",
    "    te = tudo.drop(te.index)\n",
    "\n",
    "    #dividindo nas classificações\n",
    "\n",
    "    #Muito Relevante\n",
    "    filtroMR = tr[\"Classificação\"]== \"Muito Relevante\"\n",
    "    classificadorMR = ' '.join(tr.loc[filtroMR, 'Tweets'])\n",
    "    classificadorMRlimpo = cleanup(classificadorMR)\n",
    "    claMRs = str(classificadorMRlimpo)\n",
    "\n",
    "    #Relevante\n",
    "    filtroR = tr[\"Classificação\"]== \"Relevante\"\n",
    "    classificadorR = ' '.join(tr.loc[filtroR, 'Tweets'])\n",
    "    classificadorRlimpo = cleanup(classificadorR)\n",
    "    claRs = str(classificadorRlimpo)\n",
    "\n",
    "    #Irrelevante\n",
    "    filtroI = tr[\"Classificação\"]== \"Irrelevante\"\n",
    "    classificadorI = ' '.join(tr.loc[filtroI, 'Tweets'])\n",
    "    classificadorIlimpo = cleanup(classificadorI)\n",
    "    claIs = str(classificadorIlimpo)\n",
    "\n",
    "    #Muito Irrelevante\n",
    "    filtroMI = tr[\"Classificação\"]== \"Muito Irrelevante\"\n",
    "    classificadorMI = ' '.join(tr.loc[filtroMI, 'Tweets'])\n",
    "    classificadorMIlimpo = cleanup(classificadorMI)\n",
    "    claMIs = str(classificadorMIlimpo)\n",
    "\n",
    "    #SEPARANDO \n",
    "    claMRpronto = t.tokenize(claMRs)\n",
    "    claRpronto = t.tokenize(claRs)\n",
    "    claIpronto = t.tokenize(claIs)\n",
    "    claMIpronto = t.tokenize(claMIs)\n",
    "\n",
    "    #probabilidades\n",
    "    t = claMIpronto + claIpronto + claMRpronto + claRpronto\n",
    "    p_MR=len(claMRpronto)/len(t)\n",
    "    p_R=len(claRpronto)/len(t)\n",
    "    p_I=len(claIpronto)/len(t)\n",
    "    p_MI=len(claMIpronto)/len(t)\n",
    "\n",
    "    #frequencias relavtivas e absolutas\n",
    "    seriesMR= pd.Series(claMRpronto)\n",
    "    freqabMR= seriesMR.value_counts()\n",
    "\n",
    "    seriesR= pd.Series(claRpronto)\n",
    "    freqabR= seriesR.value_counts()\n",
    "\n",
    "    seriesI= pd.Series(claIpronto)\n",
    "    freqabI= seriesI.value_counts()\n",
    "\n",
    "    seriesMI = pd.Series(claMIpronto)\n",
    "    freqabMI= seriesMI.value_counts()\n",
    "    \n",
    "    te['Tweets'] = te['Tweets'].astype('str')\n",
    "    te['Tweets'] = te['Tweets'].apply(cleanup)\n",
    "    te['Classificador'] = te['Tweets'].apply(classifica2)\n",
    "    tpi = pd.crosstab(te['Classificação'], te['Classificador'], normalize='index')\n",
    "    \n",
    "    MI_v.append(tpi.iloc[0,1])\n",
    "    I_v.append(tpi.iloc[1,0])\n",
    "    R_v.append(tpi.iloc[2,3])\n",
    "    MR_v.append(tpi.iloc[3,2])\n"
   ]
  },
  {
   "cell_type": "code",
   "execution_count": 1117,
   "metadata": {},
   "outputs": [
    {
     "data": {
      "text/plain": [
       "str"
      ]
     },
     "execution_count": 1117,
     "metadata": {},
     "output_type": "execute_result"
    }
   ],
   "source": [
    "type(claMRs)"
   ]
  },
  {
   "cell_type": "code",
   "execution_count": null,
   "metadata": {},
   "outputs": [],
   "source": []
  },
  {
   "cell_type": "markdown",
   "metadata": {},
   "source": [
    "___\n",
    "## Aperfeiçoamento:\n",
    "\n",
    "Os trabalhos vão evoluir em conceito dependendo da quantidade de itens avançados:\n",
    "\n",
    "* Limpar: \\n, :, \", ', (, ), etc SEM remover emojis -\n",
    "* Corrigir separação de espaços entre palavras e emojis ou entre emojis e emojis -\n",
    "* Propor outras limpezas e transformações que não afetem a qualidade da informação ou classificação -\n",
    "* Criar categorias intermediárias de relevância baseadas na probabilidade: ex.: muito relevante, relevante, neutro, irrelevante, muito irrelevante (3 categorias: C, mais categorias conta para B) -\n",
    "* Explicar por que não posso usar o próprio classificador para gerar mais amostras de treinamento\n",
    "* Propor diferentes cenários para Naïve Bayes fora do contexto do projeto\n",
    "* Sugerir e explicar melhorias reais com indicações concretas de como implementar (indicar como fazer e indicar material de pesquisa)\n"
   ]
  },
  {
   "cell_type": "code",
   "execution_count": null,
   "metadata": {},
   "outputs": [],
   "source": []
  },
  {
   "cell_type": "markdown",
   "metadata": {},
   "source": [
    "___\n",
    "## Referências"
   ]
  },
  {
   "cell_type": "markdown",
   "metadata": {},
   "source": [
    "[Naive Bayes and Text Classification](https://arxiv.org/pdf/1410.5329.pdf)  **Mais completo**\n",
    "\n",
    "[A practical explanation of a Naive Bayes Classifier](https://monkeylearn.com/blog/practical-explanation-naive-bayes-classifier/) **Mais simples**"
   ]
  },
  {
   "cell_type": "code",
   "execution_count": null,
   "metadata": {},
   "outputs": [],
   "source": []
  }
 ],
 "metadata": {
  "kernelspec": {
   "display_name": "Python 3",
   "language": "python",
   "name": "python3"
  },
  "language_info": {
   "codemirror_mode": {
    "name": "ipython",
    "version": 3
   },
   "file_extension": ".py",
   "mimetype": "text/x-python",
   "name": "python",
   "nbconvert_exporter": "python",
   "pygments_lexer": "ipython3",
   "version": "3.8.5"
  }
 },
 "nbformat": 4,
 "nbformat_minor": 4
}
