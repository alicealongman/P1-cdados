{
 "cells": [
  {
   "cell_type": "markdown",
   "metadata": {},
   "source": [
    "# Projeto 1 - Ciência dos Dados"
   ]
  },
  {
   "cell_type": "markdown",
   "metadata": {},
   "source": [
    "Nome: Alice Longman\n",
    "\n",
    "Nome: Lorena Budin"
   ]
  },
  {
   "cell_type": "markdown",
   "metadata": {},
   "source": [
    "Atenção: Serão permitidos grupos de três pessoas, mas com uma rubrica mais exigente. Grupos deste tamanho precisarão fazer um questionário de avaliação de trabalho em equipe"
   ]
  },
  {
   "cell_type": "markdown",
   "metadata": {},
   "source": [
    "___\n",
    "Carregando algumas bibliotecas:"
   ]
  },
  {
   "cell_type": "code",
   "execution_count": 1,
   "metadata": {},
   "outputs": [],
   "source": [
    "%matplotlib inline\n",
    "import pandas as pd\n",
    "import matplotlib.pyplot as plt\n",
    "import numpy as np\n",
    "import os\n",
    "import emoji"
   ]
  },
  {
   "cell_type": "code",
   "execution_count": 2,
   "metadata": {
    "scrolled": false
   },
   "outputs": [
    {
     "output_type": "stream",
     "name": "stdout",
     "text": [
      "Esperamos trabalhar no diretório\nc:\\Users\\Administrador\\P1CDADOS\\P1-cdados\n"
     ]
    }
   ],
   "source": [
    "print('Esperamos trabalhar no diretório')\n",
    "print(os.getcwd())"
   ]
  },
  {
   "cell_type": "markdown",
   "metadata": {},
   "source": [
    "Carregando a base de dados com os tweets classificados como relevantes e não relevantes:"
   ]
  },
  {
   "cell_type": "code",
   "execution_count": 3,
   "metadata": {},
   "outputs": [],
   "source": [
    "filename = 'shein.xlsx'"
   ]
  },
  {
   "cell_type": "code",
   "execution_count": 4,
   "metadata": {},
   "outputs": [
    {
     "output_type": "execute_result",
     "data": {
      "text/plain": [
       "                                         Treinamento  Classificador\n",
       "0  eu tô completamente apaixonada pelas lingeries...              1\n",
       "1  minhas compras da shein não saem de curitiba n...              3\n",
       "2  que demora pra essas roupas da shein chegar, q...              3\n",
       "3  “ainn a shein copiou minha marca buaaa” fia su...              0\n",
       "4  eu to com abstinência de comprar coisa na shei...              0"
      ],
      "text/html": "<div>\n<style scoped>\n    .dataframe tbody tr th:only-of-type {\n        vertical-align: middle;\n    }\n\n    .dataframe tbody tr th {\n        vertical-align: top;\n    }\n\n    .dataframe thead th {\n        text-align: right;\n    }\n</style>\n<table border=\"1\" class=\"dataframe\">\n  <thead>\n    <tr style=\"text-align: right;\">\n      <th></th>\n      <th>Treinamento</th>\n      <th>Classificador</th>\n    </tr>\n  </thead>\n  <tbody>\n    <tr>\n      <th>0</th>\n      <td>eu tô completamente apaixonada pelas lingeries...</td>\n      <td>1</td>\n    </tr>\n    <tr>\n      <th>1</th>\n      <td>minhas compras da shein não saem de curitiba n...</td>\n      <td>3</td>\n    </tr>\n    <tr>\n      <th>2</th>\n      <td>que demora pra essas roupas da shein chegar, q...</td>\n      <td>3</td>\n    </tr>\n    <tr>\n      <th>3</th>\n      <td>“ainn a shein copiou minha marca buaaa” fia su...</td>\n      <td>0</td>\n    </tr>\n    <tr>\n      <th>4</th>\n      <td>eu to com abstinência de comprar coisa na shei...</td>\n      <td>0</td>\n    </tr>\n  </tbody>\n</table>\n</div>"
     },
     "metadata": {},
     "execution_count": 4
    }
   ],
   "source": [
    "train = pd.read_excel(filename)\n",
    "train.head(5)"
   ]
  },
  {
   "cell_type": "markdown",
   "metadata": {},
   "source": [
    "___\n",
    "## Classificador automático de sentimento\n"
   ]
  },
  {
   "cell_type": "markdown",
   "metadata": {},
   "source": [
    "Faça aqui uma descrição do seu produto e o que considerou como relevante ou não relevante na classificação dos tweets.\n",
    "\n",
    "- SHEIN é uma marca que gera recursos a política do FastFashion e concentra seus produtos na categoria de roupas, acessórios e sapatos femininos. Classificamos como relevante os comentários negativos da marca, pois acreditamos que é de extrema importância aperfeiçoarmos as dores e necessidades dos consumidores."
   ]
  },
  {
   "cell_type": "markdown",
   "metadata": {},
   "source": [
    "___\n",
    "### Montando um Classificador Naive-Bayes\n",
    "\n",
    "Considerando apenas as mensagens da planilha Treinamento, ensine  seu classificador."
   ]
  },
  {
   "source": [],
   "cell_type": "markdown",
   "metadata": {}
  },
  {
   "cell_type": "markdown",
   "metadata": {},
   "source": [
    "- PROPOSTAS PARA OUTRAS LIMPEZAS/TRANSFORMAÇÕES: Removemos os nomes dos usuários que foram mencionados ou citados nos tweets, pois isso não afetaria o conteúdo da base de dados."
   ]
  },
  {
   "cell_type": "code",
   "execution_count": 6,
   "metadata": {},
   "outputs": [],
   "source": [
    "import re \n",
    "\n",
    "\n",
    "def cleanup(text):\n",
    "    \"\"\"\n",
    "        Função de limpeza muito simples que troca alguns sinais básicos por espaços\n",
    "    \"\"\"\n",
    "    #import string\n",
    "    punctuation = '[!-.:?;\"\"''“”''/_\"\\n\"(),_%$\\|/,<>]' # Note que os sinais [] são delimitadores de um conjunto.\n",
    "    pattern = re.compile(punctuation)\n",
    "    text_subbed = re.sub(pattern, '', text)\n",
    "    \n",
    "    \n",
    "    \n",
    "    filtropessoas = filter(lambda x:x[0]!='@', text_subbed.split())\n",
    "    juncao = \" \".join(filter(lambda x:x[0]!='@', text_subbed.split()))\n",
    "    return juncao"
   ]
  },
  {
   "cell_type": "code",
   "execution_count": 7,
   "metadata": {
    "scrolled": true
   },
   "outputs": [
    {
     "output_type": "execute_result",
     "data": {
      "text/plain": [
       "0      eu tô completamente apaixonada pelas lingeries...\n",
       "1      minhas compras da shein não saem de curitiba n...\n",
       "2      que demora pra essas roupas da shein chegar, q...\n",
       "3      “ainn a shein copiou minha marca buaaa” fia su...\n",
       "4      eu to com abstinência de comprar coisa na shei...\n",
       "                             ...                        \n",
       "295    @sugarv3nus eu vi umas na shein coisa mais esq...\n",
       "296    fiz ontem a primeira compra na shein, só esper...\n",
       "297            so mandei vir 1 cena da shein e não curti\n",
       "298         trabalhar pra comprar minhas coisas na shein\n",
       "299         comprei umas roupinhas na shein, fiquei feia\n",
       "Name: Treinamento, Length: 300, dtype: object"
      ]
     },
     "metadata": {},
     "execution_count": 7
    }
   ],
   "source": [
    "treinamento= pd.Series(train.Treinamento)\n",
    "treinamento"
   ]
  },
  {
   "cell_type": "code",
   "execution_count": 8,
   "metadata": {
    "scrolled": false
   },
   "outputs": [
    {
     "output_type": "execute_result",
     "data": {
      "text/plain": [
       "'eu tô completamente apaixonada pelas lingeries da shein'"
      ]
     },
     "metadata": {},
     "execution_count": 8
    }
   ],
   "source": [
    "cleanup(treinamento[0])"
   ]
  },
  {
   "cell_type": "markdown",
   "metadata": {},
   "source": [
    "## CLASSIFICADOR 0"
   ]
  },
  {
   "cell_type": "code",
   "execution_count": 9,
   "metadata": {},
   "outputs": [],
   "source": [
    "filtro0= train.Classificador == 0\n",
    "classificador0= ' '.join(train.loc[filtro0, 'Treinamento'])"
   ]
  },
  {
   "cell_type": "code",
   "execution_count": 10,
   "metadata": {},
   "outputs": [
    {
     "output_type": "execute_result",
     "data": {
      "text/plain": [
       "'ainn a shein copiou minha marca buaaa fia sua marca também copia marcas menores eu to com abstinência de comprar coisa na shein nem faz sentido eu comprar pq além de pobre não tem pra onde usar mas eu sinto muita faltaaaa parabens consumismo vc venceu vc sabe que venceu httpstcoppqyrq1nq2 pessoas que usam shein alguém tem a carta s eu posso dar hn e tenho outras contas que posso dar também o e e o i kkk shein cartõesshein sheinminijogo sheinminigame httpstcovlurrnewud acabei as atividades agr vou ver roupa na shein tem umas mt monstrahttpstcosntqx4dbf4 fiz duas compras na shein ontem e já quero agora na minha casa tô a hrsss vendo a parte de decoração pra casa da shein será se a vida adulta chegou kkkkk rt odeio quem fala mal da shein se voce fala mal da shein saia da minha casa comprei na shein tb graças a deus o aliexpress nunca me pegou meu fetiche ultimamente tem sido colocar roupas no carrinho na shein e esquecer lá vontade de gastar meu salário todo na shein eu até tento juntar dinheiro mas minha avó acabou de me convidar para comprar roupas na shein hehehe me sentindo a influencer com as pessoas me perguntando dúvidas da shein no insta a vossa namorada tambem ta viciada na shein queria comprar roupa na shein 🥺💔 eu e sem aula e vamos comprar roupa na shein 🥳 eu também miga kkkkkkkk do nada ontem eu tava no app da shein 🤣🤣🤣 já todos nós percebemos que vocês todas fazem compras na shein 🙄 meu deus eu não posso gastar dinheiropq já gastei bastantemas tô vendo os biquínis na shein meu dedo tá coçando pra comprar meu deus oq eu faço kkkkkkk virou vício focar olhando produto na shein shein é um caminho sem volta juro 😩 o estafeta da shein veiome pedir o insta 😂 como é suposto eu entrar na shein e não gastar tanto dinheiro ainda por cima money q não é meu acho que vou mandar vir bikinis da shein 💀💀 seja o que deus quiser a minha vida era boa só com a shein até a me mandar baixar o app da shopee e agr eu passo horas revezando em comprar num app e no outro vou falar e a culpa é dela hsushshshsu tb quero saber aaa mas se eu não me engano já vi uma dessa na shein meninas que já compraram na shein me ajudem pf em uma dúvida 🙏🏻😔🙏🏻 eu só queria minhas compras da shein sabe amigas de sp quem quer fazer compra da shein tô doida nesses 2 primeiros mas não queria pagar frete httpstcomkuws7fdy9 enchendo meu carrinho na shein e nem cartão de credito eu tenho 😝 não amg é na shein os brinquinhos deleeeee eu quero igual vou procurar na shein httpstcoglb85fbqnf rt só queria um vale de 500€ para gastar na shein so uns mil reais na conta pra pegar essa promo na shein nao vai dar professor to muito ocupada vendo roupa na shein rt meu carrinho na shein ta cheio e não tenho dinheiro pra comprar nada kkkkkk queria tanto usar roupas no estilo da sheinconfortáveis porem uma vibe ricamas não tem roupas masculinas laenfim as 19h irei liberar o link de shein pra quem tá na espera fique atento mais uma da shein😍 meu carrinho na shein ja tem quase 700 reais 😔😔😔😔 eu com a shein aqui httpstco5nbi1bgmdb shein até agr é a única q conheço kk eu to viciada em colocar coisa no meu carrinho da shein minhas brusinha da emporio chegoooou aaaaaah quero a da shein agora coloquei o endereço da advocacia pra entregar as roupas da shein só que esqueci que não abre de manhã e o carteiro veio hj de manhã🤡 🤡 🤡😩 rt assim de saúde kkkkk nowunitedturnitup will brabo da galera best anime last anime fortniteseason6 filter1y… amiga tem na shein viu to só de olho kkkkkkkkkkkkkkkkkkkk só o alface e a cebolanowunitedturnitup will brabo da galera best anime last anime fortniteseason6 filter1yearonbillboard shein 4yearsforbb2trailerstorm felipe neto ยกเลิก112 기범버블 froto stan friends httpstcohiyczo8vzc httpstcovnhktd78ai é essa aqui amg calcinha de shapewear frontal com zíperdescobri produtos incríveis no httpstcoesv1obsvav venha conferirhttpstcomoi2c1r35c rt ah se eu comprasse tudo q eu favorito na shein consegui colecionar as letras do cartão da shein nem sei como 🤣 as roupas da shein vêm mm ou é meme eu chego a conclusão que conseguir um s da shein e mais complicado do que ganhar o euromilhões httpstcouaafb2x0it alguma suggar mommy online pra me presentear com uma calça da shein eu por horas no site da shein botando mil coisas no carrinho pra depois escolher algumas pra comprar quem me ama tanto que vai me dar 3 brusinhas da minha lista da shein de aniversário 👉🏻👈🏻 rt quem vai ser a alma bondosa q vai pagar meu carrinho de compras da shein 😍😍😍 nao lembro mas na shein tem eu todas as vezes que entro na shein httpstcon1d9mrmrpk é viciante encher a sacola na shein o foda é não ter o limite no cartão rt mandar vir roupa da shein é um caminho sem volta começando o dia enchendo o carrinho na shein e na shopee agora já posso esvaziar e me sentir menos estressada 😌 rt shein faz promoção aí 3 blusa por 5 reais n vou mentir se não disser q não vou a shein ver cenas e guardo a pensar em comprar kkk está tudo bue caro nas lojas normais vi uma na shein httpstcong47dsihl0 comprei roupinhas na shein e uma das saias não fechou ai o inchaço passou um pouco e ela entrou perfeitamente vai tomar no cú sagrado feminino eu te amo e odeio ao msm tempo eu gostava de ser mais consciente nas coisas que compro mas eu sou dívida em comprar em lojas de 2 mão no insta e na shein tem brecho que eh foda a menina vendendo um vestido pique shein por 140 reais fui no app da shein e do nada achei ele la por 4799 eh de cair o uc da bunda rt a vossa namorada tambem ta viciada na shein uma forma fácil de comprar minhas roupinhas na shein todo mês 🤩🤩🤩 httpstcojzvthsuny3 o comércio local parem d comprar shein1 nos ajudem 😔✊🏻🙏🏻tb o comércio local lojinha de insta vendendo shein por 6x o preço mano comprei umas cenas na shein e chegaram hoje eu pedi no dia 11 😳 demoraram 5 dias para chegar o problema de comprar na shein é q minha personalidade de quando eu comprei pode não ser a mesma de quando eu receber e vc pode comprar 1k na shein né amg é da shein ficar literalmente horas escolhendo roupas na shein e na hora de finalizar a compra simplesmente fechar a página sem motivo algum enfim a estressada o dia chegou fiz comprinhas na shein kkk gastar 1k na shein mais vou ficar um nojo de hypado passei toda a semana escolhendo as roupinhas da shein agora que tenho dinheiro to em dúvida se eu compro ou nao meu novo passatempo favorito é olhar as fotos que os consumidores postam na shein nas fantasias pra gato kkkkkkk alguém já comprou jeans na shein rt as pessoas que tao a meter aqueles storys por causa da shein e o crlh p e de fast fashion e quês são as mesmas pessoas que… oo senhor ja fiz outro carrinho na shein metade do meu tempo livre eu favorito as roupas da shein e no restante coisinhas na shopee 🥴 me segurando pra n fzr besteira e comprar coisinhas na shein estou vivendo ou apenas rastreando minhas compras da shein ahahsjjdhajajs minhss roupas da shein sairam pra entrega shein shopee e amazon postem logo minhas comprinhasqro tudo na minha casa ainda hoje fodase os correios e transportadoras😤 rt só quem acompanha ela no insta sabe como ela queria esse patrocínio falava todas as vezes q comprava algo na shein kkkkkkk… queria tanto mais um pijama para minha coleçãomais agora vou comprar tudo da sheinaceito presentes também mds as roupas da baw são muito caras pqp vou de shein msm mood ouvindo raça negra e comprando na shein nn fui taxada na sheinamém pensando em comprar mais coisas na shein meu deus o consumismo httpstcoaugg9emqly minha lista da shein httpstco8zxcvwigwz adoro os vídeos dela mostrando roupa da shein kkkk rt não professora não estou a ouvir estou na shein a ver roupa obrigada trabalhar pra comprar minhas coisas na shein'"
      ]
     },
     "metadata": {},
     "execution_count": 10
    }
   ],
   "source": [
    "classificador0limpo= cleanup(classificador0)\n",
    "classificador0limpo "
   ]
  },
  {
   "cell_type": "markdown",
   "metadata": {},
   "source": [
    "## CLASSIFICADOR 1"
   ]
  },
  {
   "cell_type": "code",
   "execution_count": 11,
   "metadata": {},
   "outputs": [],
   "source": [
    "filtro1= train.Classificador == 1\n",
    "classificador1= ' '.join(train.loc[filtro1, 'Treinamento'])"
   ]
  },
  {
   "cell_type": "code",
   "execution_count": 12,
   "metadata": {
    "scrolled": true
   },
   "outputs": [
    {
     "output_type": "execute_result",
     "data": {
      "text/plain": [
       "'eu tô completamente apaixonada pelas lingeries da shein minhas primeiras compras na shein e eu tô apaixonada httpstcohxxrz0ss1j minha compra da shein finalmente chegou no br gente por favor z os cílios da shein são extremamente leves macios com a base super molinha e mt fácil de colocar meudeus socorro comprei um biquíni babadeira na shein por 60 merréis minhas compras shein chegaram hoje sto me sentindo adorave compra minha lista de desejo da shein linda aii a minha encomenda da shein chegou🥰🤩 os colares que eu comprei no shein chegaram agorinha e ainda chegaram mais cedo q o previsto shein eu te amo ansiosa pra minha mãe chegar com meus pedidos da shein 🥰 na shein tem umas lindas demais e chega em 15 dias sério é de chorar de tao lindas mais uma compra da shein sem ser taxada httpstcobxopdk81zr wtf a minha encomenda da shein veio b rápido rt apaixonada nas coisas da shein preciso ser rica pra comprar tudo rt nunca vi anéis que me assentassem tão bem como os da shein 😻 shein nunca me decepciona meu pedido chegou com 19 dias 🥰 vou fazer umas comprinhas na shein 🥰🥰 meus vestidos da shein ja tao aqui no br to doida pra experimentar a shein com frete grátis p compras acima de 50 conto ameyyy httpstcoycmyb41faz encomenda da shein chegou 1 semana antes do previsto 🤩 rt mood querendo comprar a shein inteira os biquínis da shein são tão cute ah se eu comprasse tudo q eu favorito na shein alguém me da uma blusinha da shein pf httpstcorzs5q24caj meus trem chegaraaaaaaaaaaaaaam shein nunca reclamei de você nunca httpstcooobbsuhwwv eu acho que de aniversário vou fazer umas comprinhas da shein e meu namorado quem vai me dar 😂😂 so queria aquele corset q eu vi na shein vou encomendar roupa da shein 😏🙏 minhaw roupas da shein chegaram to mt feliz shein é zero defeitos quero comprar altas roupinhas de inverno na shein mês que vem shein é um vício mal terminei de pagar a shein e já quero comprar mais coisas vou entrar na shein pra ver se ja chegando meu pedido minhas coisas da shein chegaram aa só quero que minhas compras da shein cheguem logo 🤧 as roupas da shein ficaram incríveis em mim aff recebidos da shein eu disse recebidos 🥰 meus pedidos da shein saíram pra entrega tchay gwnte to indo sentar la fora 🥳🥳🥳🥳🥳 minhas roupas da shein chegaram 😋😋 td oq eu quero tem na shein mas faltame dinero 🕳🚶\\u200d♀️ meu pedido da shein chegou eu vou surtaaaaar shein é sem dúvidas a melhor lojinha pra comprar aaa minhas roupas da shein chegaraaaam fali na shein agora meu deus minhas coisas da shein chegaram ihaaa mostrei roupa da shein à minha mãe e ela adorou tanto ou mais que eu minhas comprinhas da shein chegaram em exatos 1 mês e não tenho reclamações a fazer gostei de tudo shein é tuuudo na vida quero comprar todos os oculos da shein melhor presente da vida livros e cupom presente da shein mano uma das mhas encomendas da shein já chegouuu😍😍😍😭😭😭😭 rt alguém entra no meu carrinho da shein e compra tudo o que tá lá e me dá de presente as compras q fiz na shein acabaram de chegar e ultrapassaram muito minha expectativa pqp gente a shein tá baratinha demais fui enchendo o carrinho e deu 700 reais agora não sei o que faço 🙄 alguém me dá mil reais pra comprar de roupa na shein doida pra minhas roupas da shein chegar amo roupas se pudesse compraria todas da shein 💐💐💐 babo muito nas roupas da shein eu não posso entrar no site da shein e nem da shopee pq eu quero comprar tudo inclusive espero que minhas comprinhas cheguem logo vou fazer a louca e comprar uns 5 biquíni na shein faz um mês que eu tô só namorando uns e nada fiz umas comprinhas na shein e está previsto pra chegar semana que vem \\U0001f972💜 coisas da shein chegarammmm happy fiz ontem a primeira compra na shein só espero não viciar'"
      ]
     },
     "metadata": {},
     "execution_count": 12
    }
   ],
   "source": [
    "classificador1limpo= cleanup(classificador1)\n",
    "classificador1limpo"
   ]
  },
  {
   "cell_type": "code",
   "execution_count": 13,
   "metadata": {
    "scrolled": true
   },
   "outputs": [],
   "source": [
    "from nltk.tokenize.casual import TweetTokenizer\n",
    "t = TweetTokenizer()\n",
    "cla0limposepa= t.tokenize(classificador0limpo)"
   ]
  },
  {
   "cell_type": "code",
   "execution_count": 14,
   "metadata": {},
   "outputs": [],
   "source": [
    "cla1limposepa= t.tokenize(classificador1limpo)"
   ]
  },
  {
   "cell_type": "markdown",
   "metadata": {},
   "source": [
    "## CLASSIFICADOR 2"
   ]
  },
  {
   "cell_type": "code",
   "execution_count": 15,
   "metadata": {},
   "outputs": [],
   "source": [
    "filtro2= train.Classificador == 2\n",
    "classificador2= ' '.join(train.loc[filtro2, 'Treinamento'])"
   ]
  },
  {
   "cell_type": "code",
   "execution_count": 16,
   "metadata": {},
   "outputs": [
    {
     "output_type": "execute_result",
     "data": {
      "text/plain": [
       "'lança o desconto 80 ou morte minhas roupas da shein não chegam nunk 10 dias e minha encomenda da shein ainda nem chegou no brasil queria comprar uma bolsinha na shein mas sla não tenho confiança no site bolada com a shein eu vou só colocando um monte de coisas no meu carrinho da shopee e da shein mas nunca compro kkkkk as encomendas da shein demoram muito a chegar não gostei da minha roupa da shein eu agorinha na shein 🤡🤡 me dá odio de saber q eu comprei um desse na shein e ficou horrível em mim kkkkkkkkkkk httpstcoo8dqc4ksjd as avaliações da shein eu morro httpstcobv7tggjvhp impossível alguém ter visto o site da shein do início ao fim gente não tem um feedback bom essa roupa da shein véi meu sonho pior q fast fashion a modelo smp usa p e não tem nem foto de cliente q nem na shein vc compra e se fode vo compra da shein hj ctz q vo sair da depressão tava tentando achar aquele anel do cal com a pedra preta na shein achei um parecido mas tenho medo de ser mt ruim 80 reais em um ovo de páscoa vem oq dentro roupa da shein porque é que eu entrei na shein favoritando um monte de coisa da shein mas é aquilo vou comprar n vou desinstalar shoop e a shein do meu celular porquê o tanto de dinheiro que eu gasto comprando besteira nesses dois app da não 🤦🏼\\u200d♀️ consegui pedir na shein só falta aceitar o pagamento mano a gabriela fica falando da shein pqp vai toma no cu shein voce é podre meu sonho era comprar na shein mas ouvi coisas horríveis sobre daí desanimei \\U0001f972 professora falando de consumo consciente na aula e eu esperando minhas compras da shein assim 🙈🙈🙈🙈🙈🙈😑😑😑 rt n comprem roupa na shein e também o povo quer comprar corset na shein 🗣️ depois dá ruim no corpo e não sabem por que minhas comprinhas da shein chegaram comprei poucas coisas pq é a primeira vez ne e já me decepcionei um pouco rt pertenço a 1 da população que ainda não comprou roupa da shein gente que site meio merdinha da shein shein tou áspera da encomenda pra que que eu fui baixar o app da shein imagina se vc descobre que a grande parte das grandes marcas são como a shein kkkkkkkk httpstcozr9zhdigrx amiga pior que foi na shein bizarro como existe cadelinha da shein que merda shein pfv coloque frete grátis sem preço mínimo para eu comprar o presente da minha amiga🥀🥀🥀 rt n posso entrar na shein q da vontade de comprar tudo😣 shein falsifica esse blusãozinho da adika pq eu n tenho dinheiro p comprar em dolar gnt as roupas q comprei na shein chegaram 🥺🥺🥺🥺🥺🥺🥺🥺🥺🥺🥺🥺🥺🥺🥺🥺🥺🥺🥺🥺🥺🥺🥺🥺🥺🥺🥺🥺🥺🥺🥺🥺🥺🥺🥺🥺🥺🥺🥺🥺🥺🥺🥺🥺🥺🥺🥺🥺🥺🥺🥺🥺🥺🥺🥺🥺🥺🥺🥺🥺🥺🥺🥺🥺🥺🥺🥺🥺🥺🥺🥺🥺🥺🥺🥺🥺🥺🥺🥺🥺🥺🥺🥺🥺🥺🥺🥺🥺🥺🥺🥺🥺 comprei um macaquinho na shein tô com medo de não chegar 🤡 shein bosta achei o brinco de cobra da shein bem estranho minha compra da shein foi aprovada e agora é ficar contando os dias pros meus mimos chegarem 🤧 vou cometer o erro de comprar roupa na shein trsite com a minha mãe pq ela comprou shein rt temos um problema chamado ✨shein✨ rt eu passo o meu dia inteiro a ver pessoal a abrir merdas da shein minhas roupas da shein não chegam nunca que ódio a moça falou q viu a bolsa q eu queria na shein fui ver e kd né 🙄 essa cena da shein não quero saber literalmente participem de fast fashion vai ser impossível nunca depender da mesma ou indústria porque não está só relacionado com a roupamas a sheina shein em si é a pior 😈😈😈😈😈😈💁🏽\\u200d♀️💁🏽\\u200d♀️💁🏽\\u200d♀️💁🏽\\u200d♀️💁🏽\\u200d♀️💁🏽\\u200d♀️💃🏽💃🏽💃🏽💃🏽💃🏽💃🏽💃🏽💃🏽💃🏽💃🏽💃🏽💃🏽 fiz compra na shein ontem e já olhei 4 vezes o site pra vê se já enviaram 🤡🤡 acabei de fazer minha primeira compra no shein e tô torcendo real pra não ser golpe fé 🙏🏼 shein é confiável mesmo shein é muito errado😫 nao compro mais nessa desgraça de shein do infernl minhas roupas da shein chegaram e eu to completamente triste shein ainda vai falir um dia hora de comprar roupa na shein para o verao so nao compro tops da ultima vez veio um top do tamanho de uma cueca 🤡 pq q a shein está nas tendências Tem coisas tão feias kkk a roupa da shein nota 210 😂 não me apanham mais nisto só aproveitei os acessórios vo mata a shein 😡😡😡 tava namorando umas coisas na shein não achei nada uau de barato como dizem queria compra uma roupa naquela loja shein mas tô com medo q n venha acabei de gastar meu rim na shein e espero que não tenha caído em golpe 🤡 pessoas que já compraram na shein é confiável Já ouvi falarem mal eu fico com mt medo de comprar na shein e n chegar 🤡 opa sei lá não comprem na shein fazendo o carrinho da shein ja porque do jeito que sou sortuda os biquinis nao chegam até o fim do ano to sentindo q a shein vai acabar com todo o meu dinheiro shein tá me liberando sintomas de ansiedade tá amarrado n peço nunca mais lembrei é da shein 😓 aiai fala sobre meio ambiente mas sustenta a fast fashion da shein hahahah não sei pra que eu abro stories das pessoas só passo raiva vendo o povo comprando coisa da shein mega insatisfeita com minhas brusinha da shein socorro shein é HORRÍVEL o que você tem contra a shein fiquei curiosa ajahshshshs eu vi umas na shein coisa mais esquisita so mandei vir 1 cena da shein e não curti comprei umas roupinhas na shein fiquei feia'"
      ]
     },
     "metadata": {},
     "execution_count": 16
    }
   ],
   "source": [
    "classificador2limpo= cleanup(classificador2)\n",
    "classificador2limpo"
   ]
  },
  {
   "cell_type": "markdown",
   "metadata": {},
   "source": [
    "## CLASSIFICADOR 3"
   ]
  },
  {
   "cell_type": "code",
   "execution_count": 17,
   "metadata": {},
   "outputs": [],
   "source": [
    "filtro3= train.Classificador == 3\n",
    "classificador3= ' '.join(train.loc[filtro3, 'Treinamento'])"
   ]
  },
  {
   "cell_type": "code",
   "execution_count": 18,
   "metadata": {},
   "outputs": [
    {
     "output_type": "execute_result",
     "data": {
      "text/plain": [
       "'minhas compras da shein não saem de curitiba nunca que demora pra essas roupas da shein chegar que saco ay caras o fim de uma era minhas compras da shein foram taxadas httpstcohdyoasci5a comprei na shein maquiagem uma vez e depois descobri que a produção dele é 100 escrava me arrependo até hoje eu deveria ter imagino por eles serem uma marca de fast fashion o que em si não é algo para se orgulhar uma coisa que me arrependo é comprar roupas na shein a qualidade dos tecidos é tao ruim que chega a dar dó e também porque descobri que todos irritam minha pele comprei roupa ontem na shein e ainda nao chegou 😕 loja toxica do crl ia comprar um vestido na shein porém está esgotado 🥺 tô triste doida para receber a encomenda da shein que eu fui taxada paguei taxa pra porra das minhas coisas da shein e nunca mais chegou q ódio shein tem que parar de roubar as marcar pequenas a shein o que me mata são os valores dos fretes e quando eles copiam oq alguém postou e colocan como se fosse eles mesmos 😐nowunitedturnitup will brabo da galera best anime last anime fortniteseason6 filter1yearonbillboard shein 4yearsforbb2trailerstorm felipe neto 기범버블 froto stan friends httpstcohiyczo8vzc rt além de mais os tecidos da roupa poluírem bastante porque é 100 poliéster para não falar do facto da shein rouba modelos… comprei um biquíni na shein chegou e não deu no meu peito 🤡🤡🤡🤡🤡🤦🏾\\u200d♀️🤦🏾\\u200d♀️🤦🏾\\u200d♀️ morro de vontade de comprar na shein mas fico pensando se eu for taxada mó medo da shein ter me enganado já tem 16 dias q minha encomenda tá em sp não chega nunca os bagulho da shein mei deis baixei o app da shein cada roupa linda pena que não tem o meu tamanho 🥺🥺🥺 tou farta de esperar pela a encomenda shein 🥺 porra de shein o que bagulho so tem roupa feia mais um dia vendo gente falar mal da shein pq pasmem ela polui o meio ambientesim cristal lapidado a shein é a única empresa de roupa que polui o ambiente essa blusa aí q vc comprou na zara não fez mal algum será que minhas coisinhas da shein poderiam chegar tipo hoje ou vai atrasar mais um mês feliz que minhas coisinhas da shein chegou porém errei no tamanho como smp nunca acerto nos meus tamanhos 🤡 de 8 coisas só 2 n ficou como eu queria mas só eu emagrecer tbm que dá certo kkk terceira vez taxada na shein 🤡 já vai fazer quase 2 meses e minhas coisas da shein ainda n chegaram eu vou morrer de ansiedade pelas minhas coisinhas da shein que não chegam logo rt porque é que eu entrei na shein eles são pessimos em questão de ética difícil ficar bonito com esse negócio né se minhas roupas da shein n chegar entrei no site da shein p ver as roupinhas meu senhor tudo caro 💔 alguém me sabe dizer qual é o tempo de entrega da shein falam que demora tantoooooo a shein é uma loja que faz n só trabalho escravo como tb copia roupa de marca não tem nenhum certificado ou comprovativo de onde eles trabalham e muitas outras merdas q sao ilegais foda eh que shein eh só no boleto ne aconteceu fui taxada na shein em 112 reais e agora não sou mais shein lover dps de ter sido taxada rt e quando eles copiam oq alguém postou e colocan como se fosse eles mesmos 😐nowunitedturnitup will brabo… a calça q comprei da shein não serviu ☹️ eu tenho um medo tão grande de comprar na shein e ser taxada😩 queria entender a shein comprei uma vez e demorou 1 ano comprei de novo e demorou uma semana ja vi tando comentario ruim de la sumiram com uma bolsa q minha irma comprou desisti da shein extremamente decepcionada nas minhas coisinhas da shein que chegaram a calça nova q eu comprei da shein achei q ia ficar mt apertada e meu deus ta mt folgada to parecendo mesmo um mlk metalero porra de shein o que bagulho so tem roupa feia meu pedido da shein não chegou eu vou surtaaaaar n compro na sheinnão quero compactuar com mais uma marca que escraviza seres humanos🥺 a minha encomenda da shein ainda não chegou parem de falar sobre a shein eles sustentam trabalho infantil ainda não chegou minha comprinha da shein porra de shein o que bagulho so tem roupa feia se minhas roupas da shein n chegar minhas compras da shein e meu colar só shoppe vai chegar nunca é oh raiva faz 1 mes e 10 dias e minhas roupas da shein ainda n chegaram minhas compras na shein vão chegar nunca já tô boladona 😡 rt a minha encomenda da shein ainda não chegou na shein acho q ha mas n sei como pesquisar que site merda😭 faz 4 dias que minha encomenda da shein saiu da china e ate agr nenhuma atualização😡 To puta não chegou minhas roupas até hoje shein voce me paga rt a shein tem umas roupas lindinhas mas a qualidade parece duvidosa e minhas compras na shein q esta em trânsito faz 199 anos em um lugar que eu não sei já tava acostumada com minhas compras chegarem em 1012 dias 😭😭😭😭😭 shein você me prometeu minhas compras da shein tao travadas em algum lugar aaa vo surta se extraviarem eu fico puta'"
      ]
     },
     "metadata": {},
     "execution_count": 18
    }
   ],
   "source": [
    "classificador3limpo= cleanup(classificador3)\n",
    "classificador3limpo"
   ]
  },
  {
   "cell_type": "markdown",
   "metadata": {},
   "source": [
    "## Dividindo"
   ]
  },
  {
   "cell_type": "code",
   "execution_count": 19,
   "metadata": {},
   "outputs": [],
   "source": [
    "from nltk.tokenize.casual import TweetTokenizer\n",
    "t = TweetTokenizer()\n",
    "cla0limposepa= t.tokenize(classificador0limpo)"
   ]
  },
  {
   "cell_type": "code",
   "execution_count": 20,
   "metadata": {},
   "outputs": [],
   "source": [
    "cla1limposepa= t.tokenize(classificador1limpo)"
   ]
  },
  {
   "cell_type": "code",
   "execution_count": 21,
   "metadata": {},
   "outputs": [],
   "source": [
    "cla2limposepa= t.tokenize(classificador2limpo)"
   ]
  },
  {
   "cell_type": "code",
   "execution_count": 22,
   "metadata": {},
   "outputs": [],
   "source": [
    "cla3limposepa= t.tokenize(classificador3limpo)"
   ]
  },
  {
   "cell_type": "markdown",
   "metadata": {},
   "source": [
    "## CLASSIFICADOR NAIVE BAYES"
   ]
  },
  {
   "cell_type": "markdown",
   "metadata": {},
   "source": [
    "___\n",
    "### Verificando a performance do Classificador\n",
    "\n",
    "Agora você deve testar o seu classificador com a base de Testes."
   ]
  },
  {
   "cell_type": "code",
   "execution_count": 23,
   "metadata": {},
   "outputs": [
    {
     "output_type": "stream",
     "name": "stdout",
     "text": [
      "0      1\n1      3\n2      3\n3      0\n4      0\n      ..\n295    2\n296    1\n297    2\n298    0\n299    2\nName: Classificador, Length: 300, dtype: int64\n"
     ]
    }
   ],
   "source": [
    "total = cla1limposepa + cla0limposepa + cla2limposepa + cla3limposepa\n",
    "print (train['Classificador'])"
   ]
  },
  {
   "cell_type": "code",
   "execution_count": 24,
   "metadata": {},
   "outputs": [],
   "source": [
    "train['Classificador'] = train['Classificador'].astype('category')\n",
    "train['Classificador'].cat.categories = ['Muito Irrelevante','Irrelevante', 'Relevante', 'Muito Relevante']"
   ]
  },
  {
   "cell_type": "code",
   "execution_count": 25,
   "metadata": {},
   "outputs": [
    {
     "output_type": "stream",
     "name": "stdout",
     "text": [
      "0            Irrelevante\n1        Muito Relevante\n2        Muito Relevante\n3      Muito Irrelevante\n4      Muito Irrelevante\n             ...        \n295            Relevante\n296          Irrelevante\n297            Relevante\n298    Muito Irrelevante\n299            Relevante\nName: Classificador, Length: 300, dtype: category\nCategories (4, object): ['Muito Irrelevante', 'Irrelevante', 'Relevante', 'Muito Relevante']\n"
     ]
    }
   ],
   "source": [
    "print(train['Classificador'])"
   ]
  },
  {
   "cell_type": "code",
   "execution_count": 26,
   "metadata": {},
   "outputs": [],
   "source": [
    "# 0 - MI -> comentarios aleatórios mas positivos\n",
    "# 1 - I -> falando bem\n",
    "# 2 - R -> falando mal\n",
    "# 3 - MR -> falando mal de algo específico da marca"
   ]
  },
  {
   "cell_type": "code",
   "execution_count": 27,
   "metadata": {
    "scrolled": false
   },
   "outputs": [],
   "source": [
    "classificacaorelevante= train['Classificador'] == 'Relevante'\n",
    "classificacaorelevante = train.loc[classificacaorelevante,['Treinamento']].copy()\n",
    "#classificacaorelevante"
   ]
  },
  {
   "cell_type": "code",
   "execution_count": 28,
   "metadata": {
    "scrolled": true
   },
   "outputs": [],
   "source": [
    "classificacaoirrelevante= train['Classificador'] == 'Irrelevante'\n",
    "classificacaoirrelevante = train.loc[classificacaoirrelevante,['Treinamento']].copy()\n",
    "#classificacaoirrelevante"
   ]
  },
  {
   "cell_type": "code",
   "execution_count": 29,
   "metadata": {},
   "outputs": [],
   "source": [
    "classificacaomuitoirrelevante= train['Classificador'] == 'Muito Irrelevante'\n",
    "classificacaomuitoirrelevante = train.loc[classificacaomuitoirrelevante,['Treinamento']].copy()\n",
    "#classificacaoirrelevante"
   ]
  },
  {
   "cell_type": "code",
   "execution_count": 30,
   "metadata": {},
   "outputs": [],
   "source": [
    "classificacaomuitorelevante= train['Classificador'] == 'Muito Relevante'\n",
    "classificacaomuitorelevante = train.loc[classificacaomuitorelevante,['Treinamento']].copy()\n",
    "#classificacaoirrelevante"
   ]
  },
  {
   "cell_type": "markdown",
   "metadata": {},
   "source": [
    "## FÓRMULA"
   ]
  },
  {
   "cell_type": "markdown",
   "metadata": {},
   "source": [
    "$\\quad P(R|palavra) = \\frac{P(palavra|R)P(R)}{P(palavra)}$\n",
    "\n",
    "e que:\n",
    "\n",
    "$\\quad P(IR|palavra) = \\frac{P(palavra|IR)P(IR)}{P(palavra)}$\n"
   ]
  },
  {
   "cell_type": "code",
   "execution_count": 31,
   "metadata": {},
   "outputs": [
    {
     "output_type": "execute_result",
     "data": {
      "text/plain": [
       "0.3534503486415004"
      ]
     },
     "metadata": {},
     "execution_count": 31
    }
   ],
   "source": [
    "#Probabilidade de uma palavra ser muito irrelevante\n",
    "p_mi=len(cla0limposepa)/len(total)\n",
    "p_mi"
   ]
  },
  {
   "cell_type": "code",
   "execution_count": 32,
   "metadata": {},
   "outputs": [
    {
     "output_type": "execute_result",
     "data": {
      "text/plain": [
       "0.1709545563837461"
      ]
     },
     "metadata": {},
     "execution_count": 32
    }
   ],
   "source": [
    "#Probabilidade de uma palavra ser irrelevante\n",
    "p_i= len(cla1limposepa)/len(total)\n",
    "p_i"
   ]
  },
  {
   "cell_type": "code",
   "execution_count": 33,
   "metadata": {},
   "outputs": [
    {
     "output_type": "execute_result",
     "data": {
      "text/plain": [
       "0.24765568646309208"
      ]
     },
     "metadata": {},
     "execution_count": 33
    }
   ],
   "source": [
    "#Probabilidade de uma palavra ser relevante\n",
    "p_r= len(cla2limposepa)/len(total)\n",
    "p_r"
   ]
  },
  {
   "cell_type": "code",
   "execution_count": 34,
   "metadata": {},
   "outputs": [
    {
     "output_type": "execute_result",
     "data": {
      "text/plain": [
       "0.22793940851166145"
      ]
     },
     "metadata": {},
     "execution_count": 34
    }
   ],
   "source": [
    "#Probabilidade de uma palavra ser muito relevante\n",
    "p_mr= len(cla3limposepa)/len(total)\n",
    "p_mr"
   ]
  },
  {
   "cell_type": "code",
   "execution_count": 35,
   "metadata": {},
   "outputs": [],
   "source": [
    "#Frequencias relativas e absolutas da palavras dentro do grupo muito irrelevante\n",
    "series0= pd.Series(cla0limposepa)\n",
    "freqab0= series0.value_counts()\n",
    "freqrel0= series0.value_counts(normalize=True)"
   ]
  },
  {
   "cell_type": "code",
   "execution_count": 36,
   "metadata": {},
   "outputs": [],
   "source": [
    "#Frequencias relativas e absolutas da palavras dentro do grupo irrelevante\n",
    "series1 = pd.Series(cla1limposepa)\n",
    "freqab1= series1.value_counts()\n",
    "freqrel1= series1.value_counts(normalize=True)"
   ]
  },
  {
   "cell_type": "code",
   "execution_count": 37,
   "metadata": {},
   "outputs": [],
   "source": [
    "#Frequencias relativas e absolutas da palavras dentro do grupo relevante\n",
    "series2 = pd.Series(cla2limposepa)\n",
    "freqab2= series2.value_counts()\n",
    "freqrel2= series2.value_counts(normalize=True)"
   ]
  },
  {
   "cell_type": "code",
   "execution_count": 38,
   "metadata": {},
   "outputs": [],
   "source": [
    "#Frequencias relativas e absolutas da palavras dentro do grupo muito relevante\n",
    "series3 = pd.Series(cla3limposepa)\n",
    "freqab3= series3.value_counts()\n",
    "freqrel3= series3.value_counts(normalize=True)"
   ]
  },
  {
   "cell_type": "code",
   "execution_count": 39,
   "metadata": {},
   "outputs": [],
   "source": [
    "def classifica (frase):\n",
    "    \n",
    "    p_mi = 0.3534503486415004\n",
    "    p_i = 0.1709545563837461\n",
    "    p_r = 0.24765568646309208\n",
    "    p_mr = 0.22793940851166145\n",
    "    prob_frase_dado_MI= 1\n",
    "    prob_frase_dado_I= 1\n",
    "    prob_frase_dado_R= 1\n",
    "    prob_frase_dado_MR= 1\n",
    "    total_palavras= 1000\n",
    "    beta= 1\n",
    "    \n",
    "    frase= frase.split(' ')\n",
    "    for palavra in frase:\n",
    "        \n",
    "        #probabilidade da frase ser muito irrelevante\n",
    "        if palavra in freqab0:\n",
    "            prob_frase_dado_MI *= ((freqab0[palavra]+beta)/(total_palavras+freqab0.sum()))\n",
    "                                  \n",
    "        if palavra not in freqab0:\n",
    "             prob_frase_dado_MI *= (beta/(total_palavras+freqab0.sum()))\n",
    "        \n",
    "        #probabilidade da frase ser irrelevante\n",
    "        if palavra in freqab1:\n",
    "            prob_frase_dado_I *= ((freqab1[palavra]+beta)/(total_palavras+freqab1.sum()))\n",
    "        \n",
    "        if palavra not in freqab1:\n",
    "            prob_frase_dado_I *= (beta/(total_palavras+freqab1.sum()))\n",
    "        \n",
    "        #probabilidade da frase ser relevante\n",
    "        if palavra in freqab2:\n",
    "            prob_frase_dado_R *= ((freqab2[palavra]+beta)/(total_palavras+freqab2.sum()))\n",
    "        \n",
    "        if palavra not in freqab2:\n",
    "            prob_frase_dado_R *= (beta/(total_palavras+freqab2.sum()))\n",
    "        \n",
    "        #probabilidade da frase ser muito relevante\n",
    "        if palavra in freqab3:\n",
    "            prob_frase_dado_MR *= ((freqab3[palavra]+beta)/(total_palavras+freqab3.sum()))\n",
    "        \n",
    "        if palavra not in freqab3:\n",
    "            prob_frase_dado_MR *= (beta/(total_palavras+freqab3.sum()))\n",
    "                                   \n",
    "    probMI_dado_frase = p_mi*prob_frase_dado_MI\n",
    "    probI_dado_frase = p_i*prob_frase_dado_I\n",
    "    probR_dado_frase = p_r*prob_frase_dado_R\n",
    "    probMR_dado_frase = p_mr*prob_frase_dado_MR\n",
    "    probabilidades = [probMI_dado_frase, probI_dado_frase, probR_dado_frase, probMR_dado_frase]\n",
    "    \n",
    "    if max(probabilidades) == probabilidades[0]: \n",
    "        return 'Muito Irrelevante'\n",
    "    if max(probabilidades) == probabilidades[1]:\n",
    "        return 'Irrelevante'\n",
    "    if max(probabilidades) == probabilidades[2]: \n",
    "        return 'Relevante'\n",
    "    if max(probabilidades) == probabilidades[3]:\n",
    "        return 'Muito Relevante'"
   ]
  },
  {
   "cell_type": "code",
   "execution_count": 41,
   "metadata": {},
   "outputs": [
    {
     "output_type": "stream",
     "name": "stdout",
     "text": [
      "Muito Relevante\n"
     ]
    }
   ],
   "source": [
    "print(classifica(\"trabalho escravo\"))"
   ]
  },
  {
   "cell_type": "markdown",
   "metadata": {},
   "source": [
    "___\n",
    "### Qualidade do Classificador a partir de novas separações dos tweets entre Treinamento e Teste\n",
    "\n",
    "Caso for fazer esse item do Projeto"
   ]
  },
  {
   "cell_type": "code",
   "execution_count": null,
   "metadata": {},
   "outputs": [],
   "source": []
  },
  {
   "cell_type": "code",
   "execution_count": null,
   "metadata": {},
   "outputs": [],
   "source": []
  },
  {
   "cell_type": "code",
   "execution_count": null,
   "metadata": {},
   "outputs": [],
   "source": []
  },
  {
   "cell_type": "markdown",
   "metadata": {},
   "source": [
    "___\n",
    "## Aperfeiçoamento:\n",
    "\n",
    "Os trabalhos vão evoluir em conceito dependendo da quantidade de itens avançados:\n",
    "\n",
    "* Limpar: \\n, :, \", ', (, ), etc SEM remover emojis\n",
    "* Corrigir separação de espaços entre palavras e emojis ou entre emojis e emojis\n",
    "* Propor outras limpezas e transformações que não afetem a qualidade da informação ou classificação\n",
    "* Criar categorias intermediárias de relevância baseadas na probabilidade: ex.: muito relevante, relevante, neutro, irrelevante, muito irrelevante (3 categorias: C, mais categorias conta para B)\n",
    "* Explicar por que não posso usar o próprio classificador para gerar mais amostras de treinamento\n",
    "* Propor diferentes cenários para Naïve Bayes fora do contexto do projeto\n",
    "* Sugerir e explicar melhorias reais com indicações concretas de como implementar (indicar como fazer e indicar material de pesquisa)\n"
   ]
  },
  {
   "cell_type": "markdown",
   "metadata": {},
   "source": [
    "___\n",
    "## Referências"
   ]
  },
  {
   "cell_type": "markdown",
   "metadata": {},
   "source": [
    "[Naive Bayes and Text Classification](https://arxiv.org/pdf/1410.5329.pdf)  **Mais completo**\n",
    "\n",
    "[A practical explanation of a Naive Bayes Classifier](https://monkeylearn.com/blog/practical-explanation-naive-bayes-classifier/) **Mais simples**"
   ]
  },
  {
   "cell_type": "code",
   "execution_count": null,
   "metadata": {},
   "outputs": [],
   "source": []
  }
 ],
 "metadata": {
  "kernelspec": {
   "display_name": "Python 3",
   "language": "python",
   "name": "python3"
  },
  "language_info": {
   "codemirror_mode": {
    "name": "ipython",
    "version": 3
   },
   "file_extension": ".py",
   "mimetype": "text/x-python",
   "name": "python",
   "nbconvert_exporter": "python",
   "pygments_lexer": "ipython3",
   "version": "3.8.5-final"
  }
 },
 "nbformat": 4,
 "nbformat_minor": 4
}